{
 "cells": [
  {
   "cell_type": "markdown",
   "metadata": {},
   "source": [
    "# Build Neural Network definition from code\n",
    "\n",
    "In this example we should how to build a `NetworkDefinition` directly from Python."
   ]
  },
  {
   "cell_type": "code",
   "execution_count": 1,
   "metadata": {},
   "outputs": [],
   "source": [
    "import pyomo.environ as pyo\n",
    "import numpy as np\n",
    "\n",
    "from omlt.block import OmltBlock\n",
    "from omlt.neuralnet import NetworkDefinition, InputLayer, DenseLayer, ReLUBigMFormulation, IndexTransformer"
   ]
  },
  {
   "cell_type": "code",
   "execution_count": 2,
   "metadata": {},
   "outputs": [],
   "source": [
    "net = NetworkDefinition(input_bounds=[(-1.0, 1.0)] * 4)\n",
    "\n",
    "# 2x2 input layer\n",
    "input_layer = InputLayer([2, 2])\n",
    "net.add_node(input_layer)\n",
    "\n",
    "# dense layer, [2, 2] -> [2, 1]\n",
    "dense_layer_0 = DenseLayer(\n",
    "    input_size=input_layer.output_size,\n",
    "    output_size=[2, 1],\n",
    "    activation=\"linear\",\n",
    "    weights=np.array([[1.0], [-0.5]]),\n",
    "    biases=np.array([[0.1], [0.25]])\n",
    ")\n",
    "net.add_node(dense_layer_0)\n",
    "net.add_edge(input_layer, dense_layer_0)\n",
    "\n",
    "# dense layer, [2] -> [1]\n",
    "# notice the use of the IndexTransformer to \"flatten\" the output of dense_layer_0\n",
    "dense_layer_1 = DenseLayer(\n",
    "    input_size=[2],\n",
    "    output_size=[1],\n",
    "    activation=\"relu\",\n",
    "    weights=np.array([2.0, -1.0]),\n",
    "    biases=np.array([0.0]),\n",
    "    input_index_transformer=IndexTransformer([2, 1], [2])\n",
    ")\n",
    "net.add_node(dense_layer_1)\n",
    "net.add_edge(dense_layer_0, dense_layer_1)"
   ]
  },
  {
   "cell_type": "markdown",
   "metadata": {},
   "source": [
    "Layers provide a function `eval` to evaluate the layer with the given input. The input must be a numpy array of `layer.input_size` size."
   ]
  },
  {
   "cell_type": "code",
   "execution_count": 3,
   "metadata": {},
   "outputs": [
    {
     "name": "stdout",
     "output_type": "stream",
     "text": [
      "InputLayer(input_size=[2, 2], output_size=[2, 2])\n",
      "[[1.3 0.3]\n",
      " [0.3 0.4]]\n",
      "\n",
      "DenseLayer(input_size=[2, 2], output_size=[2, 1])\n",
      "[[1.25]\n",
      " [0.35]]\n",
      "\n",
      "DenseLayer(input_size=[2], output_size=[1])\n",
      "[2.15]\n",
      "\n"
     ]
    }
   ],
   "source": [
    "x = np.diag([1.0, 0.1]) + 0.3\n",
    "\n",
    "for layer in net.nodes:\n",
    "    x = layer.eval(x)\n",
    "    print(layer)\n",
    "    print(x)\n",
    "    print()\n",
    "    "
   ]
  },
  {
   "cell_type": "code",
   "execution_count": 5,
   "metadata": {},
   "outputs": [],
   "source": [
    "m = pyo.ConcreteModel()\n",
    "m.neural_net = OmltBlock()\n",
    "formulation = ReLUBigMFormulation(net)\n",
    "m.neural_net.build_formulation(formulation)"
   ]
  },
  {
   "cell_type": "code",
   "execution_count": 7,
   "metadata": {},
   "outputs": [
    {
     "name": "stdout",
     "output_type": "stream",
     "text": [
      "inputs : Size=4, Index=neural_net.inputs_set\n",
      "    Key    : Lower : Value : Upper : Fixed : Stale : Domain\n",
      "    (0, 0) :  -1.0 :     0 :   1.0 : False : False :  Reals\n",
      "    (0, 1) :  -1.0 :     0 :   1.0 : False : False :  Reals\n",
      "    (1, 0) :  -1.0 :     0 :   1.0 : False : False :  Reals\n",
      "    (1, 1) :  -1.0 :     0 :   1.0 : False : False :  Reals\n"
     ]
    }
   ],
   "source": [
    "m.neural_net.inputs.pprint()"
   ]
  },
  {
   "cell_type": "code",
   "execution_count": 8,
   "metadata": {},
   "outputs": [
    {
     "name": "stdout",
     "output_type": "stream",
     "text": [
      "outputs : Size=1, Index=neural_net.outputs_set\n",
      "    Key : Lower : Value : Upper : Fixed : Stale : Domain\n",
      "      0 :  None :     0 :  None : False : False :  Reals\n"
     ]
    }
   ],
   "source": [
    "m.neural_net.outputs.pprint()"
   ]
  },
  {
   "cell_type": "code",
   "execution_count": 9,
   "metadata": {},
   "outputs": [
    {
     "name": "stdout",
     "output_type": "stream",
     "text": [
      "{Member of layer} : Size=3, Index=neural_net.layer_index, Active=True\n",
      "    neural_net.layer[0] : Active=True\n",
      "        3 Set Declarations\n",
      "            constraints_index : Size=1, Index=None, Ordered=Insertion\n",
      "                Key  : Dimen : Domain : Size : Members\n",
      "                None :     1 :    Any :    0 :      {}\n",
      "            z_index : Size=1, Index=None, Ordered=False\n",
      "                Key  : Dimen : Domain : Size : Members\n",
      "                None :     2 :    Any :    4 : {(0, 0), (0, 1), (1, 0), (1, 1)}\n",
      "            zhat_index : Size=1, Index=None, Ordered=False\n",
      "                Key  : Dimen : Domain : Size : Members\n",
      "                None :     2 :    Any :    4 : {(0, 0), (0, 1), (1, 0), (1, 1)}\n",
      "\n",
      "        2 Var Declarations\n",
      "            z : Size=4, Index=neural_net.layer[0].z_index\n",
      "                Key    : Lower : Value : Upper : Fixed : Stale : Domain\n",
      "                (0, 0) :  -1.0 :     0 :   1.0 : False : False :  Reals\n",
      "                (0, 1) :  -1.0 :     0 :   1.0 : False : False :  Reals\n",
      "                (1, 0) :  -1.0 :     0 :   1.0 : False : False :  Reals\n",
      "                (1, 1) :  -1.0 :     0 :   1.0 : False : False :  Reals\n",
      "            zhat : Size=4, Index=neural_net.layer[0].zhat_index\n",
      "                Key    : Lower : Value : Upper : Fixed : Stale : Domain\n",
      "                (0, 0) :  None :     0 :  None : False : False :  Reals\n",
      "                (0, 1) :  None :     0 :  None : False : False :  Reals\n",
      "                (1, 0) :  None :     0 :  None : False : False :  Reals\n",
      "                (1, 1) :  None :     0 :  None : False : False :  Reals\n",
      "\n",
      "        1 Constraint Declarations\n",
      "            constraints : Size=0, Index=neural_net.layer[0].constraints_index, Active=True\n",
      "                Key : Lower : Body : Upper : Active\n",
      "\n",
      "        6 Declarations: z_index z zhat_index zhat constraints_index constraints\n"
     ]
    }
   ],
   "source": [
    "m.neural_net.layer[0].pprint()"
   ]
  },
  {
   "cell_type": "code",
   "execution_count": 10,
   "metadata": {},
   "outputs": [
    {
     "name": "stdout",
     "output_type": "stream",
     "text": [
      "{Member of layer} : Size=3, Index=neural_net.layer_index, Active=True\n",
      "    neural_net.layer[1] : Active=True\n",
      "        4 Set Declarations\n",
      "            _linear_activation_index : Size=1, Index=None, Ordered=False\n",
      "                Key  : Dimen : Domain : Size : Members\n",
      "                None :     2 :    Any :    2 : {(0, 0), (1, 0)}\n",
      "            constraints_index : Size=1, Index=None, Ordered=Insertion\n",
      "                Key  : Dimen : Domain : Size : Members\n",
      "                None :     1 :    Any :    2 : {1, 2}\n",
      "            z_index : Size=1, Index=None, Ordered=False\n",
      "                Key  : Dimen : Domain : Size : Members\n",
      "                None :     2 :    Any :    2 : {(0, 0), (1, 0)}\n",
      "            zhat_index : Size=1, Index=None, Ordered=False\n",
      "                Key  : Dimen : Domain : Size : Members\n",
      "                None :     2 :    Any :    2 : {(0, 0), (1, 0)}\n",
      "\n",
      "        2 Var Declarations\n",
      "            z : Size=2, Index=neural_net.layer[1].z_index\n",
      "                Key    : Lower  : Value : Upper : Fixed : Stale : Domain\n",
      "                (0, 0) : [-2.9] :     0 : [3.1] : False : False :  Reals\n",
      "                (1, 0) : [-2.9] :     0 : [3.1] : False : False :  Reals\n",
      "            zhat : Size=2, Index=neural_net.layer[1].zhat_index\n",
      "                Key    : Lower : Value : Upper : Fixed : Stale : Domain\n",
      "                (0, 0) :  None :     0 :  None : False : False :  Reals\n",
      "                (1, 0) :  None :     0 :  None : False : False :  Reals\n",
      "\n",
      "        2 Constraint Declarations\n",
      "            _linear_activation : Size=2, Index=neural_net.layer[1]._linear_activation_index, Active=True\n",
      "                Key    : Lower : Body                                                       : Upper : Active\n",
      "                (0, 0) :   0.0 : neural_net.layer[1].z[0,0] - neural_net.layer[1].zhat[0,0] :   0.0 :   True\n",
      "                (1, 0) :   0.0 : neural_net.layer[1].z[1,0] - neural_net.layer[1].zhat[1,0] :   0.0 :   True\n",
      "            constraints : Size=2, Index=neural_net.layer[1].constraints_index, Active=True\n",
      "                Key : Lower : Body                                                                                                                                                                : Upper : Active\n",
      "                  1 :   0.0 : neural_net.layer[1].zhat[0,0] - (neural_net.layer[0].z[0,0] - 0.5*neural_net.layer[0].z[0,1] + neural_net.layer[0].z[1,0] - 0.5*neural_net.layer[0].z[1,1] + [0.1]) :   0.0 :   True\n",
      "                  2 :   0.0 : neural_net.layer[1].zhat[1,0] - (neural_net.layer[0].z[0,0] - 0.5*neural_net.layer[0].z[0,1] + neural_net.layer[0].z[1,0] - 0.5*neural_net.layer[0].z[1,1] + [0.1]) :   0.0 :   True\n",
      "\n",
      "        8 Declarations: z_index z zhat_index zhat constraints_index constraints _linear_activation_index _linear_activation\n"
     ]
    }
   ],
   "source": [
    "m.neural_net.layer[1].pprint()"
   ]
  },
  {
   "cell_type": "code",
   "execution_count": 11,
   "metadata": {},
   "outputs": [
    {
     "name": "stdout",
     "output_type": "stream",
     "text": [
      "{Member of layer} : Size=3, Index=neural_net.layer_index, Active=True\n",
      "    neural_net.layer[2] : Active=True\n",
      "        10 Set Declarations\n",
      "            _big_m_lb_index : Size=1, Index=None, Ordered=False\n",
      "                Key  : Dimen : Domain : Size : Members\n",
      "                None :     1 :    Any :    1 :    {0,}\n",
      "            _big_m_ub_index : Size=1, Index=None, Ordered=False\n",
      "                Key  : Dimen : Domain : Size : Members\n",
      "                None :     1 :    Any :    1 :    {0,}\n",
      "            _z_lower_bound_index : Size=1, Index=None, Ordered=False\n",
      "                Key  : Dimen : Domain : Size : Members\n",
      "                None :     1 :    Any :    1 :    {0,}\n",
      "            _z_lower_bound_zhat_index : Size=1, Index=None, Ordered=False\n",
      "                Key  : Dimen : Domain : Size : Members\n",
      "                None :     1 :    Any :    1 :    {0,}\n",
      "            _z_upper_bound_index : Size=1, Index=None, Ordered=False\n",
      "                Key  : Dimen : Domain : Size : Members\n",
      "                None :     1 :    Any :    1 :    {0,}\n",
      "            _z_upper_bound_zhat_index : Size=1, Index=None, Ordered=False\n",
      "                Key  : Dimen : Domain : Size : Members\n",
      "                None :     1 :    Any :    1 :    {0,}\n",
      "            constraints_index : Size=1, Index=None, Ordered=Insertion\n",
      "                Key  : Dimen : Domain : Size : Members\n",
      "                None :     1 :    Any :    1 :    {1,}\n",
      "            q_index : Size=1, Index=None, Ordered=False\n",
      "                Key  : Dimen : Domain : Size : Members\n",
      "                None :     1 :    Any :    1 :    {0,}\n",
      "            z_index : Size=1, Index=None, Ordered=False\n",
      "                Key  : Dimen : Domain : Size : Members\n",
      "                None :     1 :    Any :    1 :    {0,}\n",
      "            zhat_index : Size=1, Index=None, Ordered=False\n",
      "                Key  : Dimen : Domain : Size : Members\n",
      "                None :     1 :    Any :    1 :    {0,}\n",
      "\n",
      "        2 Param Declarations\n",
      "            _big_m_lb : Size=1, Index=neural_net.layer[2]._big_m_lb_index, Domain=Any, Default=-1000000.0, Mutable=True\n",
      "                Key : Value\n",
      "                  0 : [-8.9]\n",
      "            _big_m_ub : Size=1, Index=neural_net.layer[2]._big_m_ub_index, Domain=Any, Default=1000000.0, Mutable=True\n",
      "                Key : Value\n",
      "                  0 : [9.1]\n",
      "\n",
      "        3 Var Declarations\n",
      "            q : Size=1, Index=neural_net.layer[2].q_index\n",
      "                Key : Lower : Value : Upper : Fixed : Stale : Domain\n",
      "                  0 :     0 :  None :     1 : False :  True : Binary\n",
      "            z : Size=1, Index=neural_net.layer[2].z_index\n",
      "                Key : Lower : Value : Upper : Fixed : Stale : Domain\n",
      "                  0 :     0 :     0 : [9.1] : False : False :  Reals\n",
      "            zhat : Size=1, Index=neural_net.layer[2].zhat_index\n",
      "                Key : Lower : Value : Upper : Fixed : Stale : Domain\n",
      "                  0 :  None :     0 :  None : False : False :  Reals\n",
      "\n",
      "        5 Constraint Declarations\n",
      "            _z_lower_bound : Size=1, Index=neural_net.layer[2]._z_lower_bound_index, Active=True\n",
      "                Key : Lower : Body                     : Upper : Active\n",
      "                  0 :   0.0 : neural_net.layer[2].z[0] :  +Inf :   True\n",
      "            _z_lower_bound_zhat : Size=1, Index=neural_net.layer[2]._z_lower_bound_zhat_index, Active=True\n",
      "                Key : Lower : Body                                                   : Upper : Active\n",
      "                  0 :  -Inf : neural_net.layer[2].zhat[0] - neural_net.layer[2].z[0] :   0.0 :   True\n",
      "            _z_upper_bound : Size=1, Index=neural_net.layer[2]._z_upper_bound_index, Active=True\n",
      "                Key : Lower : Body                                                                                 : Upper : Active\n",
      "                  0 :  -Inf : neural_net.layer[2].z[0] - neural_net.layer[2]._big_m_ub[0]*neural_net.layer[2].q[0] :   0.0 :   True\n",
      "            _z_upper_bound_zhat : Size=1, Index=neural_net.layer[2]._z_upper_bound_zhat_index, Active=True\n",
      "                Key : Lower : Body                                                                                                                         : Upper : Active\n",
      "                  0 :  -Inf : neural_net.layer[2].z[0] - (neural_net.layer[2].zhat[0] - neural_net.layer[2]._big_m_lb[0]*(1.0 - neural_net.layer[2].q[0])) :   0.0 :   True\n",
      "            constraints : Size=1, Index=neural_net.layer[2].constraints_index, Active=True\n",
      "                Key : Lower : Body                                                                                        : Upper : Active\n",
      "                  1 :   0.0 : neural_net.layer[2].zhat[0] - (2.0*neural_net.layer[1].z[0,0] - neural_net.layer[1].z[1,0]) :   0.0 :   True\n",
      "\n",
      "        20 Declarations: z_index z zhat_index zhat constraints_index constraints q_index q _z_lower_bound_index _z_lower_bound _z_lower_bound_zhat_index _z_lower_bound_zhat _z_upper_bound_index _z_upper_bound _z_upper_bound_zhat_index _z_upper_bound_zhat _big_m_lb_index _big_m_lb _big_m_ub_index _big_m_ub\n"
     ]
    }
   ],
   "source": [
    "m.neural_net.layer[2].pprint()"
   ]
  },
  {
   "cell_type": "code",
   "execution_count": null,
   "metadata": {},
   "outputs": [],
   "source": []
  }
 ],
 "metadata": {
  "interpreter": {
   "hash": "b8f31a8284ce774e9ad8d309790c576c984c0620550967f9ef361ac8e66f487d"
  },
  "kernelspec": {
   "display_name": "Python 3.8.11 64-bit ('venv': venv)",
   "name": "python3"
  },
  "language_info": {
   "codemirror_mode": {
    "name": "ipython",
    "version": 3
   },
   "file_extension": ".py",
   "mimetype": "text/x-python",
   "name": "python",
   "nbconvert_exporter": "python",
   "pygments_lexer": "ipython3",
   "version": "3.8.11"
  },
  "orig_nbformat": 4
 },
 "nbformat": 4,
 "nbformat_minor": 2
}
