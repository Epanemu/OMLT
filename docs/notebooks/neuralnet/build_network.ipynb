{
 "cells": [
  {
   "cell_type": "markdown",
   "metadata": {},
   "source": [
    "# Build Neural Network definition from code\n",
    "\n",
    "In this example we should how to build a `NetworkDefinition` directly from Python.\n",
    "\n",
    "If you intend to use a model that is trained using a library like Keras, PyTorch, or Tensorflow you should look at the notebooks that show how to import models into OMLT."
   ]
  },
  {
   "cell_type": "markdown",
   "metadata": {},
   "source": [
    "## Library Setup\n",
    "\n",
    "Start by importing the libraries used in this project:\n",
    "\n",
    " - `pyomo`: the algebraic modeling language for Python, it's used to define the optimization model passed to the solver\n",
    " - `numpy`: a general-purpose numerical library\n",
    " \n",
    "We import the following classes from OMLT:\n",
    "\n",
    " - `OmltBlock`: a special type of Pyomo block that contains the variables and constraints of our machine-learning model\n",
    " - `NetworkDefinition`: class that contains the nodes in a Neural Network\n",
    " - `InputLayer`, `DenseLayer`: the two types of layers used in this example\n",
    " - `IndexTransformer`: used to reshape the data between layers"
   ]
  },
  {
   "cell_type": "code",
   "execution_count": 1,
   "metadata": {},
   "outputs": [],
   "source": [
    "import pyomo.environ as pyo\n",
    "import numpy as np\n",
    "\n",
    "from omlt.block import OmltBlock\n",
    "from omlt.neuralnet import NetworkDefinition, InputLayer, DenseLayer, ReLUBigMFormulation, IndexTransformer"
   ]
  },
  {
   "cell_type": "markdown",
   "metadata": {},
   "source": [
    "## Neural Network creation\n",
    "\n",
    "We start by creating the Neural Network definition. In this example, the input of the network is four variables in a 2 by 2 grid with bounds in $[-1, 1]$."
   ]
  },
  {
   "cell_type": "code",
   "execution_count": 2,
   "metadata": {},
   "outputs": [],
   "source": [
    "net = NetworkDefinition(input_bounds=[(-1.0, 1.0), (-1.0, 1.0), (-1.0, 1.0), (-1.0, 1.0)])"
   ]
  },
  {
   "cell_type": "markdown",
   "metadata": {},
   "source": [
    "We can see that when the network is created it contains no layers."
   ]
  },
  {
   "cell_type": "code",
   "execution_count": 3,
   "metadata": {},
   "outputs": [
    {
     "data": {
      "text/plain": [
       "[]"
      ]
     },
     "execution_count": 3,
     "metadata": {},
     "output_type": "execute_result"
    }
   ],
   "source": [
    "list(net.nodes)"
   ]
  },
  {
   "cell_type": "markdown",
   "metadata": {},
   "source": [
    "We can now add the input layer. We specify that the input is a 2 by 2 matrix."
   ]
  },
  {
   "cell_type": "code",
   "execution_count": 4,
   "metadata": {},
   "outputs": [],
   "source": [
    "input_layer = InputLayer([2, 2])"
   ]
  },
  {
   "cell_type": "markdown",
   "metadata": {},
   "source": [
    "Graphically, we represent the input layer as follows:\n",
    "\n",
    "![input layer](../images/input-layer.png)\n",
    "\n",
    "\n",
    "Notice the input has a double border since the input has dimension 2."
   ]
  },
  {
   "cell_type": "markdown",
   "metadata": {},
   "source": [
    "We then add the node to the layer"
   ]
  },
  {
   "cell_type": "code",
   "execution_count": 5,
   "metadata": {},
   "outputs": [],
   "source": [
    "net.add_node(input_layer)"
   ]
  },
  {
   "cell_type": "markdown",
   "metadata": {},
   "source": [
    "Now we add a dense layer to the network. A dense layer is a layer where each output node is connected to all input nodes. \n",
    "\n",
    "The output of the dense layer, before activation, is given by the following equation:\n",
    "\n",
    "$$\n",
    "Y = WX + b\n",
    "$$\n",
    "\n",
    "where $Y \\in \\mathbb{R}^{N \\times L}$, $W \\in \\mathbb{R}^{N \\times M}$, $X \\in \\mathbb{R}^{M \\times L}$ and $b \\in \\mathbb{R}^N$.\n",
    "\n",
    "In this case the activation function is linear which means that the output of the layer is $Y$.\n",
    "\n",
    "A dense layer needs to know its input and output sizes to validate the size of the weights and biases.\n",
    "In this example, the input is $X \\in \\mathbb{R}^{2 \\times 2}$, the output is $Y \\in \\mathbb{R}^{2 \\times 1}$, the weights are $W \\in \\mathbb{R}^{2 \\times 1}$ and the biases are $b \\in \\mathbb{R}^2$."
   ]
  },
  {
   "cell_type": "markdown",
   "metadata": {},
   "source": [
    "Graphically, we represent this layer as follows:\n",
    "\n",
    "![dense layer 0](../images/dense-layer-0.png)"
   ]
  },
  {
   "cell_type": "code",
   "execution_count": 6,
   "metadata": {},
   "outputs": [],
   "source": [
    "dense_layer_0 = DenseLayer(\n",
    "    input_size=input_layer.output_size,\n",
    "    output_size=[2, 1],\n",
    "    activation=\"linear\",\n",
    "    weights=np.array([[1.0], [-0.5]]),\n",
    "    biases=np.array([[0.1], [0.25]])\n",
    ")"
   ]
  },
  {
   "cell_type": "markdown",
   "metadata": {},
   "source": [
    "We add the layer to the network and then connect the output of the input layer to the input of this layer."
   ]
  },
  {
   "cell_type": "code",
   "execution_count": 7,
   "metadata": {},
   "outputs": [],
   "source": [
    "net.add_node(dense_layer_0)\n",
    "net.add_edge(input_layer, dense_layer_0)"
   ]
  },
  {
   "cell_type": "markdown",
   "metadata": {},
   "source": [
    "In the final layer of our simple network we use a dense layer again. This time we want to \"flatten\" the output of the previous layer into a vector with the same number of elements.\n",
    "We achieve this by defining an `IndexTransformer`. This object is used to map indices from differently-sized matrices, effectively changing the shape of the output of one layer to match the input of the other layer."
   ]
  },
  {
   "cell_type": "code",
   "execution_count": 8,
   "metadata": {},
   "outputs": [
    {
     "name": "stdout",
     "output_type": "stream",
     "text": [
      "Input index 0 is output index (0, 0)\n",
      "Input index 1 is output index (1, 0)\n"
     ]
    }
   ],
   "source": [
    "transformer = IndexTransformer([2, 1], [2])\n",
    "\n",
    "for i in range(2):\n",
    "    print(f\"Input index {i} is output index {transformer([i])}\")"
   ]
  },
  {
   "cell_type": "markdown",
   "metadata": {},
   "source": [
    "This layer also uses a different type of activation function: the Rectified Linear Unit (ReLU) function. This function changes the output $Y$ of the layer to $Z$ defined as:\n",
    "\n",
    "$$\n",
    "Z = max(Y, 0)\n",
    "$$\n",
    "\n",
    "Graphically, the activation function looks like the following:"
   ]
  },
  {
   "cell_type": "code",
   "execution_count": 23,
   "metadata": {},
   "outputs": [
    {
     "data": {
      "text/plain": [
       "<matplotlib.legend.Legend at 0x7faf94a7aee0>"
      ]
     },
     "execution_count": 23,
     "metadata": {},
     "output_type": "execute_result"
    },
    {
     "data": {
      "image/png": "[encoded data removed]",
      "text/plain": [
       "<Figure size 432x288 with 1 Axes>"
      ]
     },
     "metadata": {
      "needs_background": "light"
     },
     "output_type": "display_data"
    }
   ],
   "source": [
    "import matplotlib.pyplot as plt\n",
    "\n",
    "x = np.arange(-10, 10, 0.1)\n",
    "y = x\n",
    "z = np.maximum(0, y)\n",
    "\n",
    "plt.plot(x, y, label='Before Activation')\n",
    "plt.plot(x, z, label='After Activation')\n",
    "plt.xlabel('x')\n",
    "plt.ylabel('y')\n",
    "plt.legend()"
   ]
  },
  {
   "cell_type": "markdown",
   "metadata": {},
   "source": [
    "We can now define the final dense layer, we specify `activation=\"relu\"` to let OMLT know that the activation function of this layer is ReLU."
   ]
  },
  {
   "cell_type": "code",
   "execution_count": 10,
   "metadata": {},
   "outputs": [],
   "source": [
    "dense_layer_1 = DenseLayer(\n",
    "    input_size=[2],\n",
    "    output_size=[1],\n",
    "    activation=\"relu\",\n",
    "    weights=np.array([2.0, -1.0]),\n",
    "    biases=np.array([0.0]),\n",
    "    input_index_transformer=transformer,\n",
    ")"
   ]
  },
  {
   "cell_type": "markdown",
   "metadata": {},
   "source": [
    "We can then connect the output of the previous dense layer (`dense_layer_0`) to the input of this dense layer (`dense_layer_1`)."
   ]
  },
  {
   "cell_type": "code",
   "execution_count": 11,
   "metadata": {},
   "outputs": [],
   "source": [
    "net.add_node(dense_layer_1)\n",
    "net.add_edge(dense_layer_0, dense_layer_1)"
   ]
  },
  {
   "cell_type": "markdown",
   "metadata": {},
   "source": [
    "## Additional features\n",
    "\n",
    "Layers provide a function `eval` to evaluate the layer with the given input. The input must be a numpy array of `layer.input_size` size.\n",
    "\n",
    "We start by defining an input vector of the correct 2 by 2 size."
   ]
  },
  {
   "cell_type": "code",
   "execution_count": 12,
   "metadata": {},
   "outputs": [
    {
     "data": {
      "text/plain": [
       "array([[1.3, 0.3],\n",
       "       [0.3, 0.4]])"
      ]
     },
     "execution_count": 12,
     "metadata": {},
     "output_type": "execute_result"
    }
   ],
   "source": [
    "x = np.diag([1.0, 0.1]) + 0.3\n",
    "x"
   ]
  },
  {
   "cell_type": "markdown",
   "metadata": {},
   "source": [
    "The input layer simply returns the input as its output since it doesn't represent any operation."
   ]
  },
  {
   "cell_type": "code",
   "execution_count": 13,
   "metadata": {},
   "outputs": [
    {
     "data": {
      "text/plain": [
       "array([[1.3, 0.3],\n",
       "       [0.3, 0.4]])"
      ]
     },
     "execution_count": 13,
     "metadata": {},
     "output_type": "execute_result"
    }
   ],
   "source": [
    "x = input_layer.eval(x)\n",
    "x"
   ]
  },
  {
   "cell_type": "markdown",
   "metadata": {},
   "source": [
    "The first dense layer performs the $Y = WX + b$ operation. We notice that the output is a 2 by 1 numpy matrix."
   ]
  },
  {
   "cell_type": "code",
   "execution_count": 14,
   "metadata": {},
   "outputs": [
    {
     "data": {
      "text/plain": [
       "array([[1.25],\n",
       "       [0.35]])"
      ]
     },
     "execution_count": 14,
     "metadata": {},
     "output_type": "execute_result"
    }
   ],
   "source": [
    "x = dense_layer_0.eval(x)\n",
    "x"
   ]
  },
  {
   "cell_type": "markdown",
   "metadata": {},
   "source": [
    "The final dense layer perform the $Y = WX + B$ operation again, with different weights. The output is a vector with only one element."
   ]
  },
  {
   "cell_type": "code",
   "execution_count": 15,
   "metadata": {},
   "outputs": [
    {
     "data": {
      "text/plain": [
       "array([2.15])"
      ]
     },
     "execution_count": 15,
     "metadata": {},
     "output_type": "execute_result"
    }
   ],
   "source": [
    "x = dense_layer_1.eval(x)\n",
    "x"
   ]
  },
  {
   "cell_type": "markdown",
   "metadata": {},
   "source": [
    "## Building the optimization model\n",
    "\n"
   ]
  },
  {
   "cell_type": "code",
   "execution_count": 16,
   "metadata": {},
   "outputs": [],
   "source": [
    "m = pyo.ConcreteModel()\n",
    "m.neural_net = OmltBlock()\n",
    "formulation = ReLUBigMFormulation(net)\n",
    "m.neural_net.build_formulation(formulation)"
   ]
  },
  {
   "cell_type": "code",
   "execution_count": 17,
   "metadata": {},
   "outputs": [
    {
     "name": "stdout",
     "output_type": "stream",
     "text": [
      "inputs : Size=4, Index=neural_net.inputs_set\n",
      "    Key    : Lower : Value : Upper : Fixed : Stale : Domain\n",
      "    (0, 0) :  -1.0 :     0 :   1.0 : False : False :  Reals\n",
      "    (0, 1) :  -1.0 :     0 :   1.0 : False : False :  Reals\n",
      "    (1, 0) :  -1.0 :     0 :   1.0 : False : False :  Reals\n",
      "    (1, 1) :  -1.0 :     0 :   1.0 : False : False :  Reals\n"
     ]
    }
   ],
   "source": [
    "m.neural_net.inputs.pprint()"
   ]
  },
  {
   "cell_type": "code",
   "execution_count": 18,
   "metadata": {},
   "outputs": [
    {
     "name": "stdout",
     "output_type": "stream",
     "text": [
      "outputs : Size=1, Index=neural_net.outputs_set\n",
      "    Key : Lower : Value : Upper : Fixed : Stale : Domain\n",
      "      0 :  None :     0 :  None : False : False :  Reals\n"
     ]
    }
   ],
   "source": [
    "m.neural_net.outputs.pprint()"
   ]
  },
  {
   "cell_type": "code",
   "execution_count": 19,
   "metadata": {},
   "outputs": [
    {
     "name": "stdout",
     "output_type": "stream",
     "text": [
      "{Member of layer} : Size=3, Index=neural_net.layer_index, Active=True\n",
      "    neural_net.layer[0] : Active=True\n",
      "        3 Set Declarations\n",
      "            constraints_index : Size=1, Index=None, Ordered=Insertion\n",
      "                Key  : Dimen : Domain : Size : Members\n",
      "                None :     1 :    Any :    0 :      {}\n",
      "            z_index : Size=1, Index=None, Ordered=False\n",
      "                Key  : Dimen : Domain : Size : Members\n",
      "                None :     2 :    Any :    4 : {(0, 0), (0, 1), (1, 0), (1, 1)}\n",
      "            zhat_index : Size=1, Index=None, Ordered=False\n",
      "                Key  : Dimen : Domain : Size : Members\n",
      "                None :     2 :    Any :    4 : {(0, 0), (0, 1), (1, 0), (1, 1)}\n",
      "\n",
      "        2 Var Declarations\n",
      "            z : Size=4, Index=neural_net.layer[0].z_index\n",
      "                Key    : Lower : Value : Upper : Fixed : Stale : Domain\n",
      "                (0, 0) :  -1.0 :     0 :   1.0 : False : False :  Reals\n",
      "                (0, 1) :  -1.0 :     0 :   1.0 : False : False :  Reals\n",
      "                (1, 0) :  -1.0 :     0 :   1.0 : False : False :  Reals\n",
      "                (1, 1) :  -1.0 :     0 :   1.0 : False : False :  Reals\n",
      "            zhat : Size=4, Index=neural_net.layer[0].zhat_index\n",
      "                Key    : Lower : Value : Upper : Fixed : Stale : Domain\n",
      "                (0, 0) :  None :     0 :  None : False : False :  Reals\n",
      "                (0, 1) :  None :     0 :  None : False : False :  Reals\n",
      "                (1, 0) :  None :     0 :  None : False : False :  Reals\n",
      "                (1, 1) :  None :     0 :  None : False : False :  Reals\n",
      "\n",
      "        1 Constraint Declarations\n",
      "            constraints : Size=0, Index=neural_net.layer[0].constraints_index, Active=True\n",
      "                Key : Lower : Body : Upper : Active\n",
      "\n",
      "        6 Declarations: z_index z zhat_index zhat constraints_index constraints\n"
     ]
    }
   ],
   "source": [
    "m.neural_net.layer[0].pprint()"
   ]
  },
  {
   "cell_type": "code",
   "execution_count": 20,
   "metadata": {},
   "outputs": [
    {
     "name": "stdout",
     "output_type": "stream",
     "text": [
      "{Member of layer} : Size=3, Index=neural_net.layer_index, Active=True\n",
      "    neural_net.layer[1] : Active=True\n",
      "        4 Set Declarations\n",
      "            _linear_activation_index : Size=1, Index=None, Ordered=False\n",
      "                Key  : Dimen : Domain : Size : Members\n",
      "                None :     2 :    Any :    2 : {(0, 0), (1, 0)}\n",
      "            constraints_index : Size=1, Index=None, Ordered=Insertion\n",
      "                Key  : Dimen : Domain : Size : Members\n",
      "                None :     1 :    Any :    2 : {1, 2}\n",
      "            z_index : Size=1, Index=None, Ordered=False\n",
      "                Key  : Dimen : Domain : Size : Members\n",
      "                None :     2 :    Any :    2 : {(0, 0), (1, 0)}\n",
      "            zhat_index : Size=1, Index=None, Ordered=False\n",
      "                Key  : Dimen : Domain : Size : Members\n",
      "                None :     2 :    Any :    2 : {(0, 0), (1, 0)}\n",
      "\n",
      "        2 Var Declarations\n",
      "            z : Size=2, Index=neural_net.layer[1].z_index\n",
      "                Key    : Lower  : Value : Upper : Fixed : Stale : Domain\n",
      "                (0, 0) : [-2.9] :     0 : [3.1] : False : False :  Reals\n",
      "                (1, 0) : [-2.9] :     0 : [3.1] : False : False :  Reals\n",
      "            zhat : Size=2, Index=neural_net.layer[1].zhat_index\n",
      "                Key    : Lower : Value : Upper : Fixed : Stale : Domain\n",
      "                (0, 0) :  None :     0 :  None : False : False :  Reals\n",
      "                (1, 0) :  None :     0 :  None : False : False :  Reals\n",
      "\n",
      "        2 Constraint Declarations\n",
      "            _linear_activation : Size=2, Index=neural_net.layer[1]._linear_activation_index, Active=True\n",
      "                Key    : Lower : Body                                                       : Upper : Active\n",
      "                (0, 0) :   0.0 : neural_net.layer[1].z[0,0] - neural_net.layer[1].zhat[0,0] :   0.0 :   True\n",
      "                (1, 0) :   0.0 : neural_net.layer[1].z[1,0] - neural_net.layer[1].zhat[1,0] :   0.0 :   True\n",
      "            constraints : Size=2, Index=neural_net.layer[1].constraints_index, Active=True\n",
      "                Key : Lower : Body                                                                                                                                                                : Upper : Active\n",
      "                  1 :   0.0 : neural_net.layer[1].zhat[0,0] - (neural_net.layer[0].z[0,0] - 0.5*neural_net.layer[0].z[0,1] + neural_net.layer[0].z[1,0] - 0.5*neural_net.layer[0].z[1,1] + [0.1]) :   0.0 :   True\n",
      "                  2 :   0.0 : neural_net.layer[1].zhat[1,0] - (neural_net.layer[0].z[0,0] - 0.5*neural_net.layer[0].z[0,1] + neural_net.layer[0].z[1,0] - 0.5*neural_net.layer[0].z[1,1] + [0.1]) :   0.0 :   True\n",
      "\n",
      "        8 Declarations: z_index z zhat_index zhat constraints_index constraints _linear_activation_index _linear_activation\n"
     ]
    }
   ],
   "source": [
    "m.neural_net.layer[1].pprint()"
   ]
  },
  {
   "cell_type": "code",
   "execution_count": 21,
   "metadata": {},
   "outputs": [
    {
     "name": "stdout",
     "output_type": "stream",
     "text": [
      "{Member of layer} : Size=3, Index=neural_net.layer_index, Active=True\n",
      "    neural_net.layer[2] : Active=True\n",
      "        10 Set Declarations\n",
      "            _big_m_lb_index : Size=1, Index=None, Ordered=False\n",
      "                Key  : Dimen : Domain : Size : Members\n",
      "                None :     1 :    Any :    1 :    {0,}\n",
      "            _big_m_ub_index : Size=1, Index=None, Ordered=False\n",
      "                Key  : Dimen : Domain : Size : Members\n",
      "                None :     1 :    Any :    1 :    {0,}\n",
      "            _z_lower_bound_index : Size=1, Index=None, Ordered=False\n",
      "                Key  : Dimen : Domain : Size : Members\n",
      "                None :     1 :    Any :    1 :    {0,}\n",
      "            _z_lower_bound_zhat_index : Size=1, Index=None, Ordered=False\n",
      "                Key  : Dimen : Domain : Size : Members\n",
      "                None :     1 :    Any :    1 :    {0,}\n",
      "            _z_upper_bound_index : Size=1, Index=None, Ordered=False\n",
      "                Key  : Dimen : Domain : Size : Members\n",
      "                None :     1 :    Any :    1 :    {0,}\n",
      "            _z_upper_bound_zhat_index : Size=1, Index=None, Ordered=False\n",
      "                Key  : Dimen : Domain : Size : Members\n",
      "                None :     1 :    Any :    1 :    {0,}\n",
      "            constraints_index : Size=1, Index=None, Ordered=Insertion\n",
      "                Key  : Dimen : Domain : Size : Members\n",
      "                None :     1 :    Any :    1 :    {1,}\n",
      "            q_index : Size=1, Index=None, Ordered=False\n",
      "                Key  : Dimen : Domain : Size : Members\n",
      "                None :     1 :    Any :    1 :    {0,}\n",
      "            z_index : Size=1, Index=None, Ordered=False\n",
      "                Key  : Dimen : Domain : Size : Members\n",
      "                None :     1 :    Any :    1 :    {0,}\n",
      "            zhat_index : Size=1, Index=None, Ordered=False\n",
      "                Key  : Dimen : Domain : Size : Members\n",
      "                None :     1 :    Any :    1 :    {0,}\n",
      "\n",
      "        2 Param Declarations\n",
      "            _big_m_lb : Size=1, Index=neural_net.layer[2]._big_m_lb_index, Domain=Any, Default=-1000000.0, Mutable=True\n",
      "                Key : Value\n",
      "                  0 : [-8.9]\n",
      "            _big_m_ub : Size=1, Index=neural_net.layer[2]._big_m_ub_index, Domain=Any, Default=1000000.0, Mutable=True\n",
      "                Key : Value\n",
      "                  0 : [9.1]\n",
      "\n",
      "        3 Var Declarations\n",
      "            q : Size=1, Index=neural_net.layer[2].q_index\n",
      "                Key : Lower : Value : Upper : Fixed : Stale : Domain\n",
      "                  0 :     0 :  None :     1 : False :  True : Binary\n",
      "            z : Size=1, Index=neural_net.layer[2].z_index\n",
      "                Key : Lower : Value : Upper : Fixed : Stale : Domain\n",
      "                  0 :     0 :     0 : [9.1] : False : False :  Reals\n",
      "            zhat : Size=1, Index=neural_net.layer[2].zhat_index\n",
      "                Key : Lower : Value : Upper : Fixed : Stale : Domain\n",
      "                  0 :  None :     0 :  None : False : False :  Reals\n",
      "\n",
      "        5 Constraint Declarations\n",
      "            _z_lower_bound : Size=1, Index=neural_net.layer[2]._z_lower_bound_index, Active=True\n",
      "                Key : Lower : Body                     : Upper : Active\n",
      "                  0 :   0.0 : neural_net.layer[2].z[0] :  +Inf :   True\n",
      "            _z_lower_bound_zhat : Size=1, Index=neural_net.layer[2]._z_lower_bound_zhat_index, Active=True\n",
      "                Key : Lower : Body                                                   : Upper : Active\n",
      "                  0 :  -Inf : neural_net.layer[2].zhat[0] - neural_net.layer[2].z[0] :   0.0 :   True\n",
      "            _z_upper_bound : Size=1, Index=neural_net.layer[2]._z_upper_bound_index, Active=True\n",
      "                Key : Lower : Body                                                                                 : Upper : Active\n",
      "                  0 :  -Inf : neural_net.layer[2].z[0] - neural_net.layer[2]._big_m_ub[0]*neural_net.layer[2].q[0] :   0.0 :   True\n",
      "            _z_upper_bound_zhat : Size=1, Index=neural_net.layer[2]._z_upper_bound_zhat_index, Active=True\n",
      "                Key : Lower : Body                                                                                                                         : Upper : Active\n",
      "                  0 :  -Inf : neural_net.layer[2].z[0] - (neural_net.layer[2].zhat[0] - neural_net.layer[2]._big_m_lb[0]*(1.0 - neural_net.layer[2].q[0])) :   0.0 :   True\n",
      "            constraints : Size=1, Index=neural_net.layer[2].constraints_index, Active=True\n",
      "                Key : Lower : Body                                                                                        : Upper : Active\n",
      "                  1 :   0.0 : neural_net.layer[2].zhat[0] - (2.0*neural_net.layer[1].z[0,0] - neural_net.layer[1].z[1,0]) :   0.0 :   True\n",
      "\n",
      "        20 Declarations: z_index z zhat_index zhat constraints_index constraints q_index q _z_lower_bound_index _z_lower_bound _z_lower_bound_zhat_index _z_lower_bound_zhat _z_upper_bound_index _z_upper_bound _z_upper_bound_zhat_index _z_upper_bound_zhat _big_m_lb_index _big_m_lb _big_m_ub_index _big_m_ub\n"
     ]
    }
   ],
   "source": [
    "m.neural_net.layer[2].pprint()"
   ]
  },
  {
   "cell_type": "code",
   "execution_count": null,
   "metadata": {},
   "outputs": [],
   "source": []
  }
 ],
 "metadata": {
  "interpreter": {
   "hash": "b8f31a8284ce774e9ad8d309790c576c984c0620550967f9ef361ac8e66f487d"
  },
  "kernelspec": {
   "display_name": "Python 3 (ipykernel)",
   "language": "python",
   "name": "python3"
  },
  "language_info": {
   "codemirror_mode": {
    "name": "ipython",
    "version": 3
   },
   "file_extension": ".py",
   "mimetype": "text/x-python",
   "name": "python",
   "nbconvert_exporter": "python",
   "pygments_lexer": "ipython3",
   "version": "3.8.11"
  }
 },
 "nbformat": 4,
 "nbformat_minor": 2
}
