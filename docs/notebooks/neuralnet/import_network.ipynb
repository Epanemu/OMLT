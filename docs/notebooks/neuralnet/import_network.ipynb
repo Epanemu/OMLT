{
 "cells": [
  {
   "cell_type": "markdown",
   "metadata": {},
   "source": [
    "# Importing Neural Networks into OMLT\n",
    "\n",
    "This notebook shows how to import your neural networks into OMLT.\n",
    "\n",
    "OMLT includes an importer for neural networks saved as [ONNX](https://onnx.ai/). This notebook shows you how to save neural networks into ONNX from a number of popular machine learning libraries. Finally, we show how to import the ONNX file into OMLT."
   ]
  },
  {
   "cell_type": "markdown",
   "metadata": {},
   "source": [
    "Throughout this notebook we are going to use Pima Indians Diabetes dataset to train a neural network that predicts whether or not a patient has diabetes, based on a set of medical data. This dataset is from the National Institute of Diabetes and Digestive and Kidney Diseases [0], licensed under the CC0 (Public Domain) license.\n",
    "You can find more information about this dataset on [Kaggle](https://www.kaggle.com/uciml/pima-indians-diabetes-database)."
   ]
  },
  {
   "cell_type": "markdown",
   "metadata": {},
   "source": [
    "We start by importing the data into a Pandas dataframe."
   ]
  },
  {
   "cell_type": "code",
   "execution_count": 1,
   "metadata": {},
   "outputs": [
    {
     "data": {
      "text/html": [
       "<div>\n",
       "<style scoped>\n",
       "    .dataframe tbody tr th:only-of-type {\n",
       "        vertical-align: middle;\n",
       "    }\n",
       "\n",
       "    .dataframe tbody tr th {\n",
       "        vertical-align: top;\n",
       "    }\n",
       "\n",
       "    .dataframe thead th {\n",
       "        text-align: right;\n",
       "    }\n",
       "</style>\n",
       "<table border=\"1\" class=\"dataframe\">\n",
       "  <thead>\n",
       "    <tr style=\"text-align: right;\">\n",
       "      <th></th>\n",
       "      <th>Pregnancies</th>\n",
       "      <th>Glucose</th>\n",
       "      <th>BloodPressure</th>\n",
       "      <th>SkinThickness</th>\n",
       "      <th>Insulin</th>\n",
       "      <th>BMI</th>\n",
       "      <th>DiabetesPedigreeFunction</th>\n",
       "      <th>Age</th>\n",
       "      <th>Outcome</th>\n",
       "    </tr>\n",
       "  </thead>\n",
       "  <tbody>\n",
       "    <tr>\n",
       "      <th>0</th>\n",
       "      <td>6</td>\n",
       "      <td>148</td>\n",
       "      <td>72</td>\n",
       "      <td>35</td>\n",
       "      <td>0</td>\n",
       "      <td>33.6</td>\n",
       "      <td>0.627</td>\n",
       "      <td>50</td>\n",
       "      <td>1</td>\n",
       "    </tr>\n",
       "    <tr>\n",
       "      <th>1</th>\n",
       "      <td>1</td>\n",
       "      <td>85</td>\n",
       "      <td>66</td>\n",
       "      <td>29</td>\n",
       "      <td>0</td>\n",
       "      <td>26.6</td>\n",
       "      <td>0.351</td>\n",
       "      <td>31</td>\n",
       "      <td>0</td>\n",
       "    </tr>\n",
       "    <tr>\n",
       "      <th>2</th>\n",
       "      <td>8</td>\n",
       "      <td>183</td>\n",
       "      <td>64</td>\n",
       "      <td>0</td>\n",
       "      <td>0</td>\n",
       "      <td>23.3</td>\n",
       "      <td>0.672</td>\n",
       "      <td>32</td>\n",
       "      <td>1</td>\n",
       "    </tr>\n",
       "    <tr>\n",
       "      <th>3</th>\n",
       "      <td>1</td>\n",
       "      <td>89</td>\n",
       "      <td>66</td>\n",
       "      <td>23</td>\n",
       "      <td>94</td>\n",
       "      <td>28.1</td>\n",
       "      <td>0.167</td>\n",
       "      <td>21</td>\n",
       "      <td>0</td>\n",
       "    </tr>\n",
       "    <tr>\n",
       "      <th>4</th>\n",
       "      <td>0</td>\n",
       "      <td>137</td>\n",
       "      <td>40</td>\n",
       "      <td>35</td>\n",
       "      <td>168</td>\n",
       "      <td>43.1</td>\n",
       "      <td>2.288</td>\n",
       "      <td>33</td>\n",
       "      <td>1</td>\n",
       "    </tr>\n",
       "  </tbody>\n",
       "</table>\n",
       "</div>"
      ],
      "text/plain": [
       "   Pregnancies  Glucose  BloodPressure  SkinThickness  Insulin   BMI  \\\n",
       "0            6      148             72             35        0  33.6   \n",
       "1            1       85             66             29        0  26.6   \n",
       "2            8      183             64              0        0  23.3   \n",
       "3            1       89             66             23       94  28.1   \n",
       "4            0      137             40             35      168  43.1   \n",
       "\n",
       "   DiabetesPedigreeFunction  Age  Outcome  \n",
       "0                     0.627   50        1  \n",
       "1                     0.351   31        0  \n",
       "2                     0.672   32        1  \n",
       "3                     0.167   21        0  \n",
       "4                     2.288   33        1  "
      ]
     },
     "execution_count": 1,
     "metadata": {},
     "output_type": "execute_result"
    }
   ],
   "source": [
    "import pandas as pd\n",
    "\n",
    "df = pd.read_csv('../data/diabetes.csv')\n",
    "\n",
    "df.head()"
   ]
  },
  {
   "cell_type": "markdown",
   "metadata": {},
   "source": [
    "We then visualize the distribution of column values."
   ]
  },
  {
   "cell_type": "code",
   "execution_count": 2,
   "metadata": {},
   "outputs": [
    {
     "data": {
      "image/png": "[encoded data removed]",
      "text/plain": [
       "<Figure size 720x720 with 9 Axes>"
      ]
     },
     "metadata": {
      "needs_background": "light"
     },
     "output_type": "display_data"
    }
   ],
   "source": [
    "_ = df.hist(figsize=(10, 10))"
   ]
  },
  {
   "cell_type": "markdown",
   "metadata": {},
   "source": [
    "Finally we split the data into input and output variables"
   ]
  },
  {
   "cell_type": "code",
   "execution_count": 3,
   "metadata": {},
   "outputs": [],
   "source": [
    "X = df.iloc[:, :8].values\n",
    "Y = df.iloc[:, 8].values"
   ]
  },
  {
   "cell_type": "markdown",
   "metadata": {},
   "source": [
    "## Storing variables bounds\n",
    "\n",
    "When developing optimization models is important to define bounds on variables. If the neural network includes ReLU activation functions, then OMLT requires all input variables to be bounded to produce a tighter MIP formulation of the ReLU activations.\n",
    "\n",
    "OMLT includes a function to write the input bounds in a format that can be read back later together with the ONNX model."
   ]
  },
  {
   "cell_type": "markdown",
   "metadata": {},
   "source": [
    "We start by computing bounds on the eight input variables of our simple neural networks. We will use `input_bounds` later when we save the ONNX model."
   ]
  },
  {
   "cell_type": "code",
   "execution_count": 4,
   "metadata": {},
   "outputs": [
    {
     "data": {
      "text/plain": [
       "[(0.0, 17.0),\n",
       " (0.0, 199.0),\n",
       " (0.0, 122.0),\n",
       " (0.0, 99.0),\n",
       " (0.0, 846.0),\n",
       " (0.0, 67.1),\n",
       " (0.078, 2.42),\n",
       " (21.0, 81.0)]"
      ]
     },
     "execution_count": 4,
     "metadata": {},
     "output_type": "execute_result"
    }
   ],
   "source": [
    "import numpy as np\n",
    "\n",
    "lb = np.min(X, axis=0)\n",
    "ub = np.max(X, axis=0)\n",
    "input_bounds = [(l, u) for l, u in zip(lb, ub)]\n",
    "input_bounds"
   ]
  },
  {
   "cell_type": "markdown",
   "metadata": {},
   "source": [
    "We import the function used to write the ONNX model together with its bounds."
   ]
  },
  {
   "cell_type": "code",
   "execution_count": 5,
   "metadata": {},
   "outputs": [],
   "source": [
    "from omlt.io import write_onnx_model_with_bounds, load_onnx_neural_network_with_bounds"
   ]
  },
  {
   "cell_type": "markdown",
   "metadata": {},
   "source": [
    "You can visualize the neural network ONNX model using an app like [Netron](https://netron.app/)."
   ]
  },
  {
   "cell_type": "markdown",
   "metadata": {},
   "source": [
    "These functions are only used in the notebooks and are not related to ONNX or OMLT."
   ]
  },
  {
   "cell_type": "code",
   "execution_count": 6,
   "metadata": {},
   "outputs": [],
   "source": [
    "import tempfile\n",
    "\n",
    "from IPython.display import Image"
   ]
  },
  {
   "cell_type": "markdown",
   "metadata": {},
   "source": [
    "## Keras\n"
   ]
  },
  {
   "cell_type": "markdown",
   "metadata": {},
   "source": [
    "We start by building a simple Keras model with 3 dense layers. "
   ]
  },
  {
   "cell_type": "code",
   "execution_count": 8,
   "metadata": {},
   "outputs": [
    {
     "name": "stderr",
     "output_type": "stream",
     "text": [
      "2021-11-18 21:19:16.469614: W tensorflow/stream_executor/platform/default/dso_loader.cc:64] Could not load dynamic library 'libcudart.so.11.0'; dlerror: libcudart.so.11.0: cannot open shared object file: No such file or directory; LD_LIBRARY_PATH: /nix/store/50msfhkz5wbyk8i78pjv3y9lxdrp7dlm-gcc-10.3.0-lib/lib:\n",
      "2021-11-18 21:19:16.469641: I tensorflow/stream_executor/cuda/cudart_stub.cc:29] Ignore above cudart dlerror if you do not have a GPU set up on your machine.\n",
      "2021-11-18 21:19:17.732129: W tensorflow/stream_executor/platform/default/dso_loader.cc:64] Could not load dynamic library 'libcuda.so.1'; dlerror: libcuda.so.1: cannot open shared object file: No such file or directory; LD_LIBRARY_PATH: /nix/store/50msfhkz5wbyk8i78pjv3y9lxdrp7dlm-gcc-10.3.0-lib/lib:\n",
      "2021-11-18 21:19:17.732156: W tensorflow/stream_executor/cuda/cuda_driver.cc:269] failed call to cuInit: UNKNOWN ERROR (303)\n",
      "2021-11-18 21:19:17.732175: I tensorflow/stream_executor/cuda/cuda_diagnostics.cc:169] retrieving CUDA diagnostic information for host: nixos\n",
      "2021-11-18 21:19:17.732182: I tensorflow/stream_executor/cuda/cuda_diagnostics.cc:176] hostname: nixos\n",
      "2021-11-18 21:19:17.732229: I tensorflow/stream_executor/cuda/cuda_diagnostics.cc:200] libcuda reported version is: Not found: was unable to find libcuda.so DSO loaded into this program\n",
      "2021-11-18 21:19:17.732263: I tensorflow/stream_executor/cuda/cuda_diagnostics.cc:204] kernel reported version is: 470.63.1\n",
      "2021-11-18 21:19:17.732444: I tensorflow/core/platform/cpu_feature_guard.cc:142] This TensorFlow binary is optimized with oneAPI Deep Neural Network Library (oneDNN) to use the following CPU instructions in performance-critical operations:  AVX2 FMA\n",
      "To enable them in other operations, rebuild TensorFlow with the appropriate compiler flags.\n"
     ]
    }
   ],
   "source": [
    "from tensorflow.keras.models import Sequential\n",
    "from tensorflow.keras.layers import Dense\n",
    "\n",
    "model = Sequential()\n",
    "model.add(Dense(12, input_dim=8, activation='relu'))\n",
    "model.add(Dense(8, activation='relu'))\n",
    "model.add(Dense(1, activation='sigmoid'))\n",
    "\n",
    "model.compile(loss='binary_crossentropy', optimizer='adam', metrics=['accuracy'])"
   ]
  },
  {
   "cell_type": "markdown",
   "metadata": {},
   "source": [
    "We then fit the model to the dataset"
   ]
  },
  {
   "cell_type": "code",
   "execution_count": 9,
   "metadata": {},
   "outputs": [
    {
     "name": "stderr",
     "output_type": "stream",
     "text": [
      "2021-11-18 21:19:17.826280: I tensorflow/compiler/mlir/mlir_graph_optimization_pass.cc:185] None of the MLIR Optimization Passes are enabled (registered 2)\n"
     ]
    },
    {
     "name": "stdout",
     "output_type": "stream",
     "text": [
      "Epoch 1/150\n",
      "77/77 [==============================] - 0s 733us/step - loss: 55.4269 - accuracy: 0.3464\n",
      "Epoch 2/150\n",
      "77/77 [==============================] - 0s 720us/step - loss: 4.2709 - accuracy: 0.6315\n",
      "Epoch 3/150\n",
      "77/77 [==============================] - 0s 714us/step - loss: 1.9625 - accuracy: 0.6576\n",
      "Epoch 4/150\n",
      "77/77 [==============================] - 0s 711us/step - loss: 1.6101 - accuracy: 0.6536\n",
      "Epoch 5/150\n",
      "77/77 [==============================] - 0s 732us/step - loss: 1.3658 - accuracy: 0.6484\n",
      "Epoch 6/150\n",
      "77/77 [==============================] - 0s 725us/step - loss: 1.1700 - accuracy: 0.6589\n",
      "Epoch 7/150\n",
      "77/77 [==============================] - 0s 748us/step - loss: 1.0365 - accuracy: 0.6510\n",
      "Epoch 8/150\n",
      "77/77 [==============================] - 0s 718us/step - loss: 0.9636 - accuracy: 0.6693\n",
      "Epoch 9/150\n",
      "77/77 [==============================] - 0s 708us/step - loss: 0.9124 - accuracy: 0.6576\n",
      "Epoch 10/150\n",
      "77/77 [==============================] - 0s 721us/step - loss: 0.8744 - accuracy: 0.6849\n",
      "Epoch 11/150\n",
      "77/77 [==============================] - 0s 720us/step - loss: 0.8654 - accuracy: 0.6367\n",
      "Epoch 12/150\n",
      "77/77 [==============================] - 0s 726us/step - loss: 0.8748 - accuracy: 0.6471\n",
      "Epoch 13/150\n",
      "77/77 [==============================] - 0s 724us/step - loss: 0.7933 - accuracy: 0.6758\n",
      "Epoch 14/150\n",
      "77/77 [==============================] - 0s 741us/step - loss: 0.7991 - accuracy: 0.6680\n",
      "Epoch 15/150\n",
      "77/77 [==============================] - 0s 723us/step - loss: 0.7652 - accuracy: 0.6641\n",
      "Epoch 16/150\n",
      "77/77 [==============================] - 0s 700us/step - loss: 0.7646 - accuracy: 0.6719\n",
      "Epoch 17/150\n",
      "77/77 [==============================] - 0s 716us/step - loss: 0.7418 - accuracy: 0.6784\n",
      "Epoch 18/150\n",
      "77/77 [==============================] - 0s 707us/step - loss: 0.7130 - accuracy: 0.6914\n",
      "Epoch 19/150\n",
      "77/77 [==============================] - 0s 712us/step - loss: 0.7087 - accuracy: 0.6810\n",
      "Epoch 20/150\n",
      "77/77 [==============================] - 0s 712us/step - loss: 0.7070 - accuracy: 0.6862\n",
      "Epoch 21/150\n",
      "77/77 [==============================] - 0s 710us/step - loss: 0.6832 - accuracy: 0.6823\n",
      "Epoch 22/150\n",
      "77/77 [==============================] - 0s 724us/step - loss: 0.7064 - accuracy: 0.6784\n",
      "Epoch 23/150\n",
      "77/77 [==============================] - 0s 709us/step - loss: 0.6917 - accuracy: 0.6758\n",
      "Epoch 24/150\n",
      "77/77 [==============================] - 0s 710us/step - loss: 0.7011 - accuracy: 0.6901\n",
      "Epoch 25/150\n",
      "77/77 [==============================] - 0s 736us/step - loss: 0.6616 - accuracy: 0.6914\n",
      "Epoch 26/150\n",
      "77/77 [==============================] - 0s 733us/step - loss: 0.6773 - accuracy: 0.6927\n",
      "Epoch 27/150\n",
      "77/77 [==============================] - 0s 708us/step - loss: 0.6586 - accuracy: 0.6927\n",
      "Epoch 28/150\n",
      "77/77 [==============================] - 0s 711us/step - loss: 0.6513 - accuracy: 0.7044\n",
      "Epoch 29/150\n",
      "77/77 [==============================] - 0s 706us/step - loss: 0.6411 - accuracy: 0.7070\n",
      "Epoch 30/150\n",
      "77/77 [==============================] - 0s 719us/step - loss: 0.6360 - accuracy: 0.6992\n",
      "Epoch 31/150\n",
      "77/77 [==============================] - 0s 711us/step - loss: 0.6209 - accuracy: 0.6966\n",
      "Epoch 32/150\n",
      "77/77 [==============================] - 0s 718us/step - loss: 0.6502 - accuracy: 0.6888\n",
      "Epoch 33/150\n",
      "77/77 [==============================] - 0s 713us/step - loss: 0.6551 - accuracy: 0.6966\n",
      "Epoch 34/150\n",
      "77/77 [==============================] - 0s 696us/step - loss: 0.6201 - accuracy: 0.6992\n",
      "Epoch 35/150\n",
      "77/77 [==============================] - 0s 711us/step - loss: 0.6791 - accuracy: 0.6862\n",
      "Epoch 36/150\n",
      "77/77 [==============================] - 0s 722us/step - loss: 0.6363 - accuracy: 0.7031\n",
      "Epoch 37/150\n",
      "77/77 [==============================] - 0s 717us/step - loss: 0.6282 - accuracy: 0.7083\n",
      "Epoch 38/150\n",
      "77/77 [==============================] - 0s 710us/step - loss: 0.5977 - accuracy: 0.7070\n",
      "Epoch 39/150\n",
      "77/77 [==============================] - 0s 734us/step - loss: 0.5936 - accuracy: 0.7096\n",
      "Epoch 40/150\n",
      "77/77 [==============================] - 0s 720us/step - loss: 0.5884 - accuracy: 0.7148\n",
      "Epoch 41/150\n",
      "77/77 [==============================] - 0s 704us/step - loss: 0.5896 - accuracy: 0.7279\n",
      "Epoch 42/150\n",
      "77/77 [==============================] - 0s 738us/step - loss: 0.5940 - accuracy: 0.7227\n",
      "Epoch 43/150\n",
      "77/77 [==============================] - 0s 740us/step - loss: 0.5904 - accuracy: 0.7096\n",
      "Epoch 44/150\n",
      "77/77 [==============================] - 0s 757us/step - loss: 0.5850 - accuracy: 0.7240\n",
      "Epoch 45/150\n",
      "77/77 [==============================] - 0s 726us/step - loss: 0.5800 - accuracy: 0.7148\n",
      "Epoch 46/150\n",
      "77/77 [==============================] - 0s 711us/step - loss: 0.5778 - accuracy: 0.7083\n",
      "Epoch 47/150\n",
      "77/77 [==============================] - 0s 703us/step - loss: 0.5937 - accuracy: 0.7109\n",
      "Epoch 48/150\n",
      "77/77 [==============================] - 0s 715us/step - loss: 0.5586 - accuracy: 0.7253\n",
      "Epoch 49/150\n",
      "77/77 [==============================] - 0s 721us/step - loss: 0.5880 - accuracy: 0.7031\n",
      "Epoch 50/150\n",
      "77/77 [==============================] - 0s 709us/step - loss: 0.5673 - accuracy: 0.7253\n",
      "Epoch 51/150\n",
      "77/77 [==============================] - 0s 691us/step - loss: 0.5664 - accuracy: 0.7188\n",
      "Epoch 52/150\n",
      "77/77 [==============================] - 0s 720us/step - loss: 0.5686 - accuracy: 0.7214\n",
      "Epoch 53/150\n",
      "77/77 [==============================] - 0s 710us/step - loss: 0.5677 - accuracy: 0.7240\n",
      "Epoch 54/150\n",
      "77/77 [==============================] - 0s 702us/step - loss: 0.5671 - accuracy: 0.7240\n",
      "Epoch 55/150\n",
      "77/77 [==============================] - 0s 714us/step - loss: 0.5566 - accuracy: 0.7383\n",
      "Epoch 56/150\n",
      "77/77 [==============================] - 0s 701us/step - loss: 0.5564 - accuracy: 0.7331\n",
      "Epoch 57/150\n",
      "77/77 [==============================] - 0s 725us/step - loss: 0.5675 - accuracy: 0.7240\n",
      "Epoch 58/150\n",
      "77/77 [==============================] - 0s 706us/step - loss: 0.5576 - accuracy: 0.7135\n",
      "Epoch 59/150\n",
      "77/77 [==============================] - 0s 725us/step - loss: 0.5509 - accuracy: 0.7305\n",
      "Epoch 60/150\n",
      "77/77 [==============================] - 0s 712us/step - loss: 0.5458 - accuracy: 0.7344\n",
      "Epoch 61/150\n",
      "77/77 [==============================] - 0s 707us/step - loss: 0.5391 - accuracy: 0.7279\n",
      "Epoch 62/150\n",
      "77/77 [==============================] - 0s 706us/step - loss: 0.5432 - accuracy: 0.7305\n",
      "Epoch 63/150\n",
      "77/77 [==============================] - 0s 704us/step - loss: 0.5753 - accuracy: 0.7135\n",
      "Epoch 64/150\n",
      "77/77 [==============================] - 0s 707us/step - loss: 0.5426 - accuracy: 0.7214\n",
      "Epoch 65/150\n",
      "77/77 [==============================] - 0s 705us/step - loss: 0.5465 - accuracy: 0.7383\n",
      "Epoch 66/150\n",
      "77/77 [==============================] - 0s 733us/step - loss: 0.5421 - accuracy: 0.7357\n",
      "Epoch 67/150\n",
      "77/77 [==============================] - 0s 708us/step - loss: 0.5442 - accuracy: 0.7292\n",
      "Epoch 68/150\n",
      "77/77 [==============================] - 0s 789us/step - loss: 0.5432 - accuracy: 0.7448\n",
      "Epoch 69/150\n",
      "77/77 [==============================] - 0s 827us/step - loss: 0.5376 - accuracy: 0.7409\n",
      "Epoch 70/150\n",
      "77/77 [==============================] - 0s 841us/step - loss: 0.5695 - accuracy: 0.7357\n",
      "Epoch 71/150\n",
      "77/77 [==============================] - 0s 775us/step - loss: 0.5720 - accuracy: 0.7005\n",
      "Epoch 72/150\n",
      "77/77 [==============================] - 0s 752us/step - loss: 0.5420 - accuracy: 0.7253\n",
      "Epoch 73/150\n",
      "77/77 [==============================] - 0s 762us/step - loss: 0.5805 - accuracy: 0.7253\n",
      "Epoch 74/150\n",
      "77/77 [==============================] - 0s 730us/step - loss: 0.5482 - accuracy: 0.7266\n",
      "Epoch 75/150\n",
      "77/77 [==============================] - 0s 736us/step - loss: 0.5440 - accuracy: 0.7344\n",
      "Epoch 76/150\n",
      "77/77 [==============================] - 0s 726us/step - loss: 0.5276 - accuracy: 0.7357\n",
      "Epoch 77/150\n",
      "77/77 [==============================] - 0s 755us/step - loss: 0.5275 - accuracy: 0.7266\n",
      "Epoch 78/150\n",
      "77/77 [==============================] - 0s 786us/step - loss: 0.5418 - accuracy: 0.7487\n",
      "Epoch 79/150\n",
      "77/77 [==============================] - 0s 726us/step - loss: 0.5492 - accuracy: 0.7305\n",
      "Epoch 80/150\n",
      "77/77 [==============================] - 0s 701us/step - loss: 0.5253 - accuracy: 0.7435\n",
      "Epoch 81/150\n",
      "77/77 [==============================] - 0s 703us/step - loss: 0.5350 - accuracy: 0.7396\n",
      "Epoch 82/150\n",
      "77/77 [==============================] - 0s 726us/step - loss: 0.5282 - accuracy: 0.7305\n",
      "Epoch 83/150\n",
      "77/77 [==============================] - 0s 711us/step - loss: 0.5194 - accuracy: 0.7461\n",
      "Epoch 84/150\n",
      "77/77 [==============================] - 0s 716us/step - loss: 0.5361 - accuracy: 0.7461\n",
      "Epoch 85/150\n",
      "77/77 [==============================] - 0s 707us/step - loss: 0.5186 - accuracy: 0.7461\n",
      "Epoch 86/150\n",
      "77/77 [==============================] - 0s 708us/step - loss: 0.5490 - accuracy: 0.7383\n",
      "Epoch 87/150\n",
      "77/77 [==============================] - 0s 728us/step - loss: 0.5409 - accuracy: 0.7435\n",
      "Epoch 88/150\n",
      "77/77 [==============================] - 0s 723us/step - loss: 0.5335 - accuracy: 0.7474\n",
      "Epoch 89/150\n",
      "77/77 [==============================] - 0s 705us/step - loss: 0.5438 - accuracy: 0.7227\n",
      "Epoch 90/150\n",
      "77/77 [==============================] - 0s 752us/step - loss: 0.5388 - accuracy: 0.7318\n",
      "Epoch 91/150\n",
      "77/77 [==============================] - 0s 834us/step - loss: 0.5378 - accuracy: 0.7266\n",
      "Epoch 92/150\n",
      "77/77 [==============================] - 0s 796us/step - loss: 0.5403 - accuracy: 0.7318\n",
      "Epoch 93/150\n",
      "77/77 [==============================] - 0s 831us/step - loss: 0.5217 - accuracy: 0.7344\n",
      "Epoch 94/150\n",
      "77/77 [==============================] - 0s 828us/step - loss: 0.5347 - accuracy: 0.7448\n",
      "Epoch 95/150\n",
      "77/77 [==============================] - 0s 963us/step - loss: 0.5251 - accuracy: 0.7344\n",
      "Epoch 96/150\n",
      "77/77 [==============================] - 0s 779us/step - loss: 0.5187 - accuracy: 0.7357\n",
      "Epoch 97/150\n",
      "77/77 [==============================] - 0s 749us/step - loss: 0.5253 - accuracy: 0.7435\n",
      "Epoch 98/150\n",
      "77/77 [==============================] - 0s 722us/step - loss: 0.5231 - accuracy: 0.7357\n",
      "Epoch 99/150\n",
      "77/77 [==============================] - 0s 736us/step - loss: 0.5235 - accuracy: 0.7422\n",
      "Epoch 100/150\n",
      "77/77 [==============================] - 0s 731us/step - loss: 0.5180 - accuracy: 0.7461\n",
      "Epoch 101/150\n",
      "77/77 [==============================] - 0s 712us/step - loss: 0.5158 - accuracy: 0.7461\n",
      "Epoch 102/150\n",
      "77/77 [==============================] - 0s 699us/step - loss: 0.5172 - accuracy: 0.7461\n",
      "Epoch 103/150\n",
      "77/77 [==============================] - 0s 707us/step - loss: 0.5106 - accuracy: 0.7539\n",
      "Epoch 104/150\n",
      "77/77 [==============================] - 0s 704us/step - loss: 0.5094 - accuracy: 0.7474\n",
      "Epoch 105/150\n",
      "77/77 [==============================] - 0s 718us/step - loss: 0.5278 - accuracy: 0.7396\n",
      "Epoch 106/150\n",
      "77/77 [==============================] - 0s 726us/step - loss: 0.5210 - accuracy: 0.7552\n",
      "Epoch 107/150\n",
      "77/77 [==============================] - 0s 708us/step - loss: 0.5193 - accuracy: 0.7565\n",
      "Epoch 108/150\n",
      "77/77 [==============================] - 0s 712us/step - loss: 0.5200 - accuracy: 0.7474\n",
      "Epoch 109/150\n",
      "77/77 [==============================] - 0s 1ms/step - loss: 0.5123 - accuracy: 0.7565\n",
      "Epoch 110/150\n",
      "77/77 [==============================] - 0s 833us/step - loss: 0.5199 - accuracy: 0.7383\n",
      "Epoch 111/150\n",
      "77/77 [==============================] - 0s 730us/step - loss: 0.5232 - accuracy: 0.7448\n",
      "Epoch 112/150\n",
      "77/77 [==============================] - 0s 721us/step - loss: 0.5602 - accuracy: 0.7305\n",
      "Epoch 113/150\n",
      "77/77 [==============================] - 0s 710us/step - loss: 0.5261 - accuracy: 0.7318\n",
      "Epoch 114/150\n",
      "77/77 [==============================] - 0s 700us/step - loss: 0.5080 - accuracy: 0.7552\n",
      "Epoch 115/150\n",
      "77/77 [==============================] - 0s 739us/step - loss: 0.5035 - accuracy: 0.7565\n",
      "Epoch 116/150\n",
      "77/77 [==============================] - 0s 728us/step - loss: 0.5032 - accuracy: 0.7474\n",
      "Epoch 117/150\n",
      "77/77 [==============================] - 0s 707us/step - loss: 0.5065 - accuracy: 0.7526\n",
      "Epoch 118/150\n",
      "77/77 [==============================] - 0s 707us/step - loss: 0.4993 - accuracy: 0.7565\n",
      "Epoch 119/150\n",
      "77/77 [==============================] - 0s 709us/step - loss: 0.5200 - accuracy: 0.7526\n",
      "Epoch 120/150\n",
      "77/77 [==============================] - 0s 714us/step - loss: 0.5046 - accuracy: 0.7552\n",
      "Epoch 121/150\n",
      "77/77 [==============================] - 0s 707us/step - loss: 0.5141 - accuracy: 0.7487\n",
      "Epoch 122/150\n",
      "77/77 [==============================] - 0s 693us/step - loss: 0.5174 - accuracy: 0.7617\n",
      "Epoch 123/150\n",
      "77/77 [==============================] - 0s 712us/step - loss: 0.5080 - accuracy: 0.7474\n",
      "Epoch 124/150\n",
      "77/77 [==============================] - 0s 695us/step - loss: 0.5002 - accuracy: 0.7604\n",
      "Epoch 125/150\n",
      "77/77 [==============================] - 0s 691us/step - loss: 0.4974 - accuracy: 0.7643\n",
      "Epoch 126/150\n",
      "77/77 [==============================] - 0s 694us/step - loss: 0.4953 - accuracy: 0.7604\n",
      "Epoch 127/150\n",
      "77/77 [==============================] - 0s 692us/step - loss: 0.5184 - accuracy: 0.7591\n",
      "Epoch 128/150\n",
      "77/77 [==============================] - 0s 700us/step - loss: 0.5113 - accuracy: 0.7474\n",
      "Epoch 129/150\n",
      "77/77 [==============================] - 0s 748us/step - loss: 0.5020 - accuracy: 0.7643\n",
      "Epoch 130/150\n",
      "77/77 [==============================] - 0s 699us/step - loss: 0.5036 - accuracy: 0.7513\n",
      "Epoch 131/150\n",
      "77/77 [==============================] - 0s 710us/step - loss: 0.5067 - accuracy: 0.7552\n",
      "Epoch 132/150\n",
      "77/77 [==============================] - 0s 699us/step - loss: 0.5028 - accuracy: 0.7617\n",
      "Epoch 133/150\n",
      "77/77 [==============================] - 0s 710us/step - loss: 0.4935 - accuracy: 0.7773\n",
      "Epoch 134/150\n",
      "77/77 [==============================] - 0s 712us/step - loss: 0.4988 - accuracy: 0.7630\n",
      "Epoch 135/150\n",
      "77/77 [==============================] - 0s 701us/step - loss: 0.5144 - accuracy: 0.7539\n",
      "Epoch 136/150\n",
      "77/77 [==============================] - 0s 704us/step - loss: 0.4989 - accuracy: 0.7513\n",
      "Epoch 137/150\n",
      "77/77 [==============================] - 0s 704us/step - loss: 0.5144 - accuracy: 0.7604\n",
      "Epoch 138/150\n",
      "77/77 [==============================] - 0s 700us/step - loss: 0.4900 - accuracy: 0.7656\n",
      "Epoch 139/150\n",
      "77/77 [==============================] - 0s 705us/step - loss: 0.5109 - accuracy: 0.7591\n",
      "Epoch 140/150\n",
      "77/77 [==============================] - 0s 701us/step - loss: 0.4998 - accuracy: 0.7474\n",
      "Epoch 141/150\n",
      "77/77 [==============================] - 0s 694us/step - loss: 0.4919 - accuracy: 0.7708\n",
      "Epoch 142/150\n",
      "77/77 [==============================] - 0s 712us/step - loss: 0.4962 - accuracy: 0.7487\n",
      "Epoch 143/150\n",
      "77/77 [==============================] - 0s 708us/step - loss: 0.5105 - accuracy: 0.7513\n",
      "Epoch 144/150\n",
      "77/77 [==============================] - 0s 702us/step - loss: 0.5068 - accuracy: 0.7513\n",
      "Epoch 145/150\n",
      "77/77 [==============================] - 0s 705us/step - loss: 0.4987 - accuracy: 0.7526\n",
      "Epoch 146/150\n",
      "77/77 [==============================] - 0s 727us/step - loss: 0.5023 - accuracy: 0.7526\n",
      "Epoch 147/150\n",
      "77/77 [==============================] - 0s 727us/step - loss: 0.4957 - accuracy: 0.7591\n",
      "Epoch 148/150\n",
      "77/77 [==============================] - 0s 726us/step - loss: 0.5369 - accuracy: 0.7526\n",
      "Epoch 149/150\n",
      "77/77 [==============================] - 0s 701us/step - loss: 0.5257 - accuracy: 0.7474\n",
      "Epoch 150/150\n",
      "77/77 [==============================] - 0s 693us/step - loss: 0.4822 - accuracy: 0.7682\n"
     ]
    },
    {
     "data": {
      "text/plain": [
       "<keras.callbacks.History at 0x7f250c6226a0>"
      ]
     },
     "execution_count": 9,
     "metadata": {},
     "output_type": "execute_result"
    }
   ],
   "source": [
    "model.fit(X, Y, epochs=150, batch_size=10)"
   ]
  },
  {
   "cell_type": "markdown",
   "metadata": {},
   "source": [
    "We can now export the Keras model to ONNX."
   ]
  },
  {
   "cell_type": "code",
   "execution_count": 10,
   "metadata": {},
   "outputs": [
    {
     "name": "stdout",
     "output_type": "stream",
     "text": [
      "WARNING:tensorflow:From /home/fra/Hacks/imperial/OptML/venv/lib/python3.8/site-packages/tf2onnx/tf_loader.py:706: extract_sub_graph (from tensorflow.python.framework.graph_util_impl) is deprecated and will be removed in a future version.\n",
      "Instructions for updating:\n",
      "Use `tf.compat.v1.graph_util.extract_sub_graph`\n",
      "Wrote ONNX model with bounds at /run/user/1000/tmpmggfruee.onnx\n"
     ]
    },
    {
     "name": "stderr",
     "output_type": "stream",
     "text": [
      "2021-11-18 21:19:27.145497: I tensorflow/core/grappler/devices.cc:66] Number of eligible GPUs (core count >= 8, compute capability >= 0.0): 0\n",
      "2021-11-18 21:19:27.145592: I tensorflow/core/grappler/clusters/single_machine.cc:357] Starting new session\n",
      "2021-11-18 21:19:27.146437: I tensorflow/core/grappler/optimizers/meta_optimizer.cc:1137] Optimization results for grappler item: graph_to_optimize\n",
      "  function_optimizer: function_optimizer did nothing. time = 0.005ms.\n",
      "  function_optimizer: function_optimizer did nothing. time = 0.002ms.\n",
      "\n",
      "2021-11-18 21:19:27.175100: I tensorflow/core/grappler/devices.cc:66] Number of eligible GPUs (core count >= 8, compute capability >= 0.0): 0\n",
      "2021-11-18 21:19:27.175197: I tensorflow/core/grappler/clusters/single_machine.cc:357] Starting new session\n",
      "2021-11-18 21:19:27.177521: I tensorflow/core/grappler/optimizers/meta_optimizer.cc:1137] Optimization results for grappler item: graph_to_optimize\n",
      "  constant_folding: Graph size after: 18 nodes (-6), 23 edges (-6), time = 0.844ms.\n",
      "  function_optimizer: function_optimizer did nothing. time = 0.025ms.\n",
      "  constant_folding: Graph size after: 18 nodes (0), 23 edges (0), time = 0.261ms.\n",
      "  function_optimizer: function_optimizer did nothing. time = 0.013ms.\n",
      "\n"
     ]
    }
   ],
   "source": [
    "import tf2onnx\n",
    "\n",
    "onnx_model, _ = tf2onnx.convert.from_keras(model)\n",
    "\n",
    "with tempfile.NamedTemporaryFile(suffix='.onnx', delete=False) as f:\n",
    "    write_onnx_model_with_bounds(f.name, onnx_model, input_bounds)\n",
    "    print(f\"Wrote ONNX model with bounds at {f.name}\")"
   ]
  },
  {
   "cell_type": "markdown",
   "metadata": {},
   "source": [
    "The model after serialization looks like the following:"
   ]
  },
  {
   "cell_type": "code",
   "execution_count": 11,
   "metadata": {},
   "outputs": [
    {
     "data": {
      "image/png": "[encoded data removed]",
      "text/plain": [
       "<IPython.core.display.Image object>"
      ]
     },
     "execution_count": 11,
     "metadata": {
      "image/png": {
       "height": 600
      }
     },
     "output_type": "execute_result"
    }
   ],
   "source": [
    "Image(filename='../images/simple-neural-network.png', height=600)"
   ]
  },
  {
   "cell_type": "markdown",
   "metadata": {},
   "source": [
    "## PyTorch"
   ]
  },
  {
   "cell_type": "markdown",
   "metadata": {},
   "source": [
    "We start by building a simple model using the PyTorch API."
   ]
  },
  {
   "cell_type": "code",
   "execution_count": 13,
   "metadata": {},
   "outputs": [
    {
     "name": "stderr",
     "output_type": "stream",
     "text": [
      "/home/fra/Hacks/imperial/OptML/_build/pip_packages/lib/python3.8/site-packages/torch/nn/functional.py:1805: UserWarning: nn.functional.sigmoid is deprecated. Use torch.sigmoid instead.\n",
      "  warnings.warn(\"nn.functional.sigmoid is deprecated. Use torch.sigmoid instead.\")\n"
     ]
    },
    {
     "name": "stdout",
     "output_type": "stream",
     "text": [
      "Epoch number: 0 loss : 0.5933030247688293\n",
      "Epoch number: 10 loss : 0.5811073184013367\n",
      "Epoch number: 20 loss : 0.5811005234718323\n",
      "Epoch number: 30 loss : 0.5810984373092651\n",
      "Epoch number: 40 loss : 0.5810976624488831\n",
      "Epoch number: 50 loss : 0.5810973644256592\n",
      "Epoch number: 60 loss : 0.5810972452163696\n",
      "Epoch number: 70 loss : 0.5810971260070801\n",
      "Epoch number: 80 loss : 0.5810971260070801\n",
      "Epoch number: 90 loss : 0.5810971260070801\n",
      "Epoch number: 100 loss : 0.5810971260070801\n",
      "Epoch number: 110 loss : 0.5810971260070801\n",
      "Epoch number: 120 loss : 0.5810971260070801\n",
      "Epoch number: 130 loss : 0.5810971260070801\n",
      "Epoch number: 140 loss : 0.5810971260070801\n"
     ]
    }
   ],
   "source": [
    "import torch\n",
    "import torch.nn as nn\n",
    "import torch.nn.functional as F\n",
    "from torch.utils.data import DataLoader, TensorDataset\n",
    "\n",
    "class PyTorchModel(nn.Module):\n",
    "    def __init__(self):\n",
    "        super().__init__()\n",
    "        self.dense_0 = nn.Linear(8, 12)\n",
    "        self.dense_1 = nn.Linear(12, 1)\n",
    "        self.out = nn.Linear(1, 1)\n",
    "\n",
    "    def forward(self, x):\n",
    "        x = F.relu(self.dense_0(x))\n",
    "        x = F.relu(self.dense_1(x))\n",
    "        x = F.sigmoid(self.out(x))\n",
    "        return x\n",
    "\n",
    "model = PyTorchModel()\n",
    "loss_function = nn.BCELoss()\n",
    "optimizer = torch.optim.Adam(model.parameters(),lr=0.01)\n",
    "\n",
    "dataset = TensorDataset(torch.as_tensor(X, dtype=torch.float32), torch.as_tensor(Y, dtype=torch.float32))\n",
    "dataloader = DataLoader(dataset, batch_size=10)\n",
    "\n",
    "for epoch in range(150):\n",
    "    for id_batch, (x_batch, y_batch) in enumerate(dataloader):\n",
    "        y_batch_pred = model(x_batch)\n",
    "        loss = loss_function(y_batch_pred, y_batch.view(*y_batch_pred.shape))\n",
    "        optimizer.zero_grad()\n",
    "        loss.backward()\n",
    "        optimizer.step()\n",
    "\n",
    "    if epoch % 10 == 0:\n",
    "        print(f\"Epoch number: {epoch} loss : {loss.item()}\")\n"
   ]
  },
  {
   "cell_type": "markdown",
   "metadata": {},
   "source": [
    "We can now export the PyTorch model to ONNX. Notice that we need to specify that the first axis of the input should be ignored since it represent training batches. Also notice that PyTorch write the ONNX model directly to the specified file, so we don't pass the raw ONNX model to `write_onnx_model_with_bounds` and instead we only specify the bounds."
   ]
  },
  {
   "cell_type": "code",
   "execution_count": 16,
   "metadata": {},
   "outputs": [
    {
     "name": "stdout",
     "output_type": "stream",
     "text": [
      "Wrote PyTorch model to /run/user/1000/tmpp71ux54v.onnx\n"
     ]
    },
    {
     "name": "stderr",
     "output_type": "stream",
     "text": [
      "/home/fra/Hacks/imperial/OptML/_build/pip_packages/lib/python3.8/site-packages/torch/nn/functional.py:1805: UserWarning: nn.functional.sigmoid is deprecated. Use torch.sigmoid instead.\n",
      "  warnings.warn(\"nn.functional.sigmoid is deprecated. Use torch.sigmoid instead.\")\n"
     ]
    }
   ],
   "source": [
    "import torch.onnx\n",
    "\n",
    "# model input used for exporting\n",
    "x = torch.randn(10, 8, requires_grad=True)\n",
    "pytorch_model = None\n",
    "with tempfile.NamedTemporaryFile(suffix='.onnx', delete=False) as f:\n",
    "    torch.onnx.export(\n",
    "        model,\n",
    "        x,\n",
    "        f,\n",
    "        input_names=['input'],\n",
    "        output_names=['output'],\n",
    "        dynamic_axes={\n",
    "            'input': {0: 'batch_size'},\n",
    "            'output': {0: 'batch_size'}\n",
    "        }\n",
    "    )\n",
    "    write_onnx_model_with_bounds(f.name, None, input_bounds)\n",
    "    print(f\"Wrote PyTorch model to {f.name}\")\n",
    "    pytorch_model = f.name"
   ]
  },
  {
   "cell_type": "code",
   "execution_count": 15,
   "metadata": {},
   "outputs": [
    {
     "data": {
      "image/png": "[encoded data removed]",
      "text/plain": [
       "<IPython.core.display.Image object>"
      ]
     },
     "execution_count": 15,
     "metadata": {
      "image/png": {
       "height": 500
      }
     },
     "output_type": "execute_result"
    }
   ],
   "source": [
    "Image(filename='../images/torch-neural-network.png', height=500)"
   ]
  },
  {
   "cell_type": "markdown",
   "metadata": {},
   "source": [
    "## Importing ONNX into OMLT\n",
    "\n",
    "Finally, we can import the ONNX model and bounds into OMLT."
   ]
  },
  {
   "cell_type": "code",
   "execution_count": 18,
   "metadata": {},
   "outputs": [],
   "source": [
    "network_definition = load_onnx_neural_network_with_bounds(pytorch_model)"
   ]
  },
  {
   "cell_type": "markdown",
   "metadata": {},
   "source": [
    "The network definition includes the bounds we defined at the beginning of this notebook."
   ]
  },
  {
   "cell_type": "code",
   "execution_count": 19,
   "metadata": {},
   "outputs": [
    {
     "data": {
      "text/plain": [
       "{0: (0.0, 17.0),\n",
       " 1: (0.0, 199.0),\n",
       " 2: (0.0, 122.0),\n",
       " 3: (0.0, 99.0),\n",
       " 4: (0.0, 846.0),\n",
       " 5: (0.0, 67.1),\n",
       " 6: (0.078, 2.42),\n",
       " 7: (21.0, 81.0)}"
      ]
     },
     "execution_count": 19,
     "metadata": {},
     "output_type": "execute_result"
    }
   ],
   "source": [
    "network_definition.scaled_input_bounds"
   ]
  },
  {
   "cell_type": "markdown",
   "metadata": {},
   "source": [
    "We can iterate over the layers to print their input and output shape, together with the activation function."
   ]
  },
  {
   "cell_type": "code",
   "execution_count": 22,
   "metadata": {},
   "outputs": [
    {
     "name": "stdout",
     "output_type": "stream",
     "text": [
      "0\tInputLayer(input_size=[8], output_size=[8])\tlinear\n",
      "1\tDenseLayer(input_size=[8], output_size=[12])\trelu\n",
      "2\tDenseLayer(input_size=[12], output_size=[1])\trelu\n",
      "3\tDenseLayer(input_size=[1], output_size=[1])\tsigmoid\n"
     ]
    }
   ],
   "source": [
    "for layer_id, layer in enumerate(network_definition.layers):\n",
    "    print(f\"{layer_id}\\t{layer}\\t{layer.activation}\")"
   ]
  },
  {
   "cell_type": "markdown",
   "metadata": {},
   "source": [
    "## References\n",
    "\n",
    "[0] Smith, Jack W., et al. \"Using the ADAP learning algorithm to forecast the onset of diabetes mellitus.\" Proceedings of the annual symposium on computer application in medical care. American Medical Informatics Association, 1988."
   ]
  }
 ],
 "metadata": {
  "interpreter": {
   "hash": "b8f31a8284ce774e9ad8d309790c576c984c0620550967f9ef361ac8e66f487d"
  },
  "kernelspec": {
   "display_name": "Python 3.8.11 64-bit ('venv': venv)",
   "language": "python",
   "name": "python3"
  },
  "language_info": {
   "codemirror_mode": {
    "name": "ipython",
    "version": 3
   },
   "file_extension": ".py",
   "mimetype": "text/x-python",
   "name": "python",
   "nbconvert_exporter": "python",
   "pygments_lexer": "ipython3",
   "version": "3.9.6"
  },
  "orig_nbformat": 4
 },
 "nbformat": 4,
 "nbformat_minor": 2
}
