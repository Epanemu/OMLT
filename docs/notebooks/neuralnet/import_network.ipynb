{
 "cells": [
  {
   "cell_type": "markdown",
   "metadata": {},
   "source": [
    "# Importing Neural Networks into OMLT\n",
    "\n",
    "This notebook shows how to import your neural networks into OMLT.\n",
    "\n",
    "OMLT includes an importer for neural networks saved as [ONNX](https://onnx.ai/). This notebook shows you how to save neural networks into ONNX from a number of popular machine learning libraries. Finally, we show how to import the ONNX file into OMLT."
   ]
  },
  {
   "cell_type": "markdown",
   "metadata": {},
   "source": [
    "Throughout this notebook we are going to use Pima Indians Diabetes dataset to train a neural network that predicts whether or not a patient has diabetes, based on a set of medical data. This dataset is from the National Institute of Diabetes and Digestive and Kidney Diseases [0], licensed under the CC0 (Public Domain) license.\n",
    "You can find more information about this dataset on [Kaggle](https://www.kaggle.com/uciml/pima-indians-diabetes-database)."
   ]
  },
  {
   "cell_type": "markdown",
   "metadata": {},
   "source": [
    "We start by importing the data into a Pandas dataframe."
   ]
  },
  {
   "cell_type": "code",
   "execution_count": 1,
   "metadata": {},
   "outputs": [
    {
     "data": {
      "text/html": [
       "<div>\n",
       "<style scoped>\n",
       "    .dataframe tbody tr th:only-of-type {\n",
       "        vertical-align: middle;\n",
       "    }\n",
       "\n",
       "    .dataframe tbody tr th {\n",
       "        vertical-align: top;\n",
       "    }\n",
       "\n",
       "    .dataframe thead th {\n",
       "        text-align: right;\n",
       "    }\n",
       "</style>\n",
       "<table border=\"1\" class=\"dataframe\">\n",
       "  <thead>\n",
       "    <tr style=\"text-align: right;\">\n",
       "      <th></th>\n",
       "      <th>Pregnancies</th>\n",
       "      <th>Glucose</th>\n",
       "      <th>BloodPressure</th>\n",
       "      <th>SkinThickness</th>\n",
       "      <th>Insulin</th>\n",
       "      <th>BMI</th>\n",
       "      <th>DiabetesPedigreeFunction</th>\n",
       "      <th>Age</th>\n",
       "      <th>Outcome</th>\n",
       "    </tr>\n",
       "  </thead>\n",
       "  <tbody>\n",
       "    <tr>\n",
       "      <th>0</th>\n",
       "      <td>6</td>\n",
       "      <td>148</td>\n",
       "      <td>72</td>\n",
       "      <td>35</td>\n",
       "      <td>0</td>\n",
       "      <td>33.6</td>\n",
       "      <td>0.627</td>\n",
       "      <td>50</td>\n",
       "      <td>1</td>\n",
       "    </tr>\n",
       "    <tr>\n",
       "      <th>1</th>\n",
       "      <td>1</td>\n",
       "      <td>85</td>\n",
       "      <td>66</td>\n",
       "      <td>29</td>\n",
       "      <td>0</td>\n",
       "      <td>26.6</td>\n",
       "      <td>0.351</td>\n",
       "      <td>31</td>\n",
       "      <td>0</td>\n",
       "    </tr>\n",
       "    <tr>\n",
       "      <th>2</th>\n",
       "      <td>8</td>\n",
       "      <td>183</td>\n",
       "      <td>64</td>\n",
       "      <td>0</td>\n",
       "      <td>0</td>\n",
       "      <td>23.3</td>\n",
       "      <td>0.672</td>\n",
       "      <td>32</td>\n",
       "      <td>1</td>\n",
       "    </tr>\n",
       "    <tr>\n",
       "      <th>3</th>\n",
       "      <td>1</td>\n",
       "      <td>89</td>\n",
       "      <td>66</td>\n",
       "      <td>23</td>\n",
       "      <td>94</td>\n",
       "      <td>28.1</td>\n",
       "      <td>0.167</td>\n",
       "      <td>21</td>\n",
       "      <td>0</td>\n",
       "    </tr>\n",
       "    <tr>\n",
       "      <th>4</th>\n",
       "      <td>0</td>\n",
       "      <td>137</td>\n",
       "      <td>40</td>\n",
       "      <td>35</td>\n",
       "      <td>168</td>\n",
       "      <td>43.1</td>\n",
       "      <td>2.288</td>\n",
       "      <td>33</td>\n",
       "      <td>1</td>\n",
       "    </tr>\n",
       "  </tbody>\n",
       "</table>\n",
       "</div>"
      ],
      "text/plain": [
       "   Pregnancies  Glucose  BloodPressure  SkinThickness  Insulin   BMI  \\\n",
       "0            6      148             72             35        0  33.6   \n",
       "1            1       85             66             29        0  26.6   \n",
       "2            8      183             64              0        0  23.3   \n",
       "3            1       89             66             23       94  28.1   \n",
       "4            0      137             40             35      168  43.1   \n",
       "\n",
       "   DiabetesPedigreeFunction  Age  Outcome  \n",
       "0                     0.627   50        1  \n",
       "1                     0.351   31        0  \n",
       "2                     0.672   32        1  \n",
       "3                     0.167   21        0  \n",
       "4                     2.288   33        1  "
      ]
     },
     "execution_count": 1,
     "metadata": {},
     "output_type": "execute_result"
    }
   ],
   "source": [
    "import pandas as pd\n",
    "\n",
    "df = pd.read_csv('../data/diabetes.csv')\n",
    "\n",
    "df.head()"
   ]
  },
  {
   "cell_type": "markdown",
   "metadata": {},
   "source": [
    "We then visualize the distribution of column values."
   ]
  },
  {
   "cell_type": "code",
   "execution_count": 2,
   "metadata": {},
   "outputs": [
    {
     "data": {
      "image/png": "[encoded data removed]",
      "text/plain": [
       "<Figure size 720x720 with 9 Axes>"
      ]
     },
     "metadata": {
      "needs_background": "light"
     },
     "output_type": "display_data"
    }
   ],
   "source": [
    "_ = df.hist(figsize=(10, 10))"
   ]
  },
  {
   "cell_type": "markdown",
   "metadata": {},
   "source": [
    "Finally we split the data into input and output variables"
   ]
  },
  {
   "cell_type": "code",
   "execution_count": 3,
   "metadata": {},
   "outputs": [],
   "source": [
    "X = df.iloc[:, :8].values\n",
    "Y = df.iloc[:, 8].values"
   ]
  },
  {
   "cell_type": "markdown",
   "metadata": {},
   "source": [
    "## Storing variables bounds\n",
    "\n",
    "When developing optimization models is important to define bounds on variables. If the neural network includes ReLU activation functions, then OMLT requires all input variables to be bounded to produce a tighter MIP formulation of the ReLU activations.\n",
    "\n",
    "OMLT includes a function to write the input bounds in a format that can be read back later together with the ONNX model."
   ]
  },
  {
   "cell_type": "markdown",
   "metadata": {},
   "source": [
    "We start by computing bounds on the eight input variables of our simple neural networks. We will use `input_bounds` later when we save the ONNX model."
   ]
  },
  {
   "cell_type": "code",
   "execution_count": 4,
   "metadata": {},
   "outputs": [
    {
     "data": {
      "text/plain": [
       "[(0.0, 17.0),\n",
       " (0.0, 199.0),\n",
       " (0.0, 122.0),\n",
       " (0.0, 99.0),\n",
       " (0.0, 846.0),\n",
       " (0.0, 67.1),\n",
       " (0.078, 2.42),\n",
       " (21.0, 81.0)]"
      ]
     },
     "execution_count": 4,
     "metadata": {},
     "output_type": "execute_result"
    }
   ],
   "source": [
    "import numpy as np\n",
    "\n",
    "lb = np.min(X, axis=0)\n",
    "ub = np.max(X, axis=0)\n",
    "input_bounds = [(l, u) for l, u in zip(lb, ub)]\n",
    "input_bounds"
   ]
  },
  {
   "cell_type": "markdown",
   "metadata": {},
   "source": [
    "We import the function used to write the ONNX model together with its bounds."
   ]
  },
  {
   "cell_type": "code",
   "execution_count": 5,
   "metadata": {},
   "outputs": [],
   "source": [
    "from omlt.io import write_onnx_model_with_bounds, load_onnx_neural_network_with_bounds"
   ]
  },
  {
   "cell_type": "markdown",
   "metadata": {},
   "source": [
    "You can visualize the neural network ONNX model using an app like [Netron](https://netron.app/)."
   ]
  },
  {
   "cell_type": "markdown",
   "metadata": {},
   "source": [
    "These functions are only used in the notebooks and are not related to ONNX or OMLT."
   ]
  },
  {
   "cell_type": "code",
   "execution_count": 6,
   "metadata": {},
   "outputs": [],
   "source": [
    "import tempfile\n",
    "\n",
    "from IPython.display import Image"
   ]
  },
  {
   "cell_type": "markdown",
   "metadata": {},
   "source": [
    "## Keras\n"
   ]
  },
  {
   "cell_type": "markdown",
   "metadata": {},
   "source": [
    "We start by building a simple Keras model with 3 dense layers. "
   ]
  },
  {
   "cell_type": "code",
   "execution_count": 8,
   "metadata": {},
   "outputs": [],
   "source": [
    "from tensorflow.keras.models import Sequential\n",
    "from tensorflow.keras.layers import Dense\n",
    "\n",
    "model = Sequential()\n",
    "model.add(Dense(12, input_dim=8, activation='relu'))\n",
    "model.add(Dense(8, activation='relu'))\n",
    "model.add(Dense(1, activation='linear'))\n",
    "\n",
    "model.compile(loss='binary_crossentropy', optimizer='adam', metrics=['accuracy'])"
   ]
  },
  {
   "cell_type": "markdown",
   "metadata": {},
   "source": [
    "We then fit the model to the dataset"
   ]
  },
  {
   "cell_type": "code",
   "execution_count": 9,
   "metadata": {},
   "outputs": [
    {
     "name": "stdout",
     "output_type": "stream",
     "text": [
      "Epoch 1/150\n",
      "77/77 [==============================] - 0s 876us/step - loss: 9.9279 - accuracy: 0.3490\n",
      "Epoch 2/150\n",
      "77/77 [==============================] - 0s 854us/step - loss: 9.9279 - accuracy: 0.3490\n",
      "Epoch 3/150\n",
      "77/77 [==============================] - 0s 858us/step - loss: 9.9279 - accuracy: 0.3490\n",
      "Epoch 4/150\n",
      "77/77 [==============================] - 0s 888us/step - loss: 9.9279 - accuracy: 0.3490\n",
      "Epoch 5/150\n",
      "77/77 [==============================] - 0s 874us/step - loss: 9.9279 - accuracy: 0.3490\n",
      "Epoch 6/150\n",
      "77/77 [==============================] - 0s 866us/step - loss: 9.9279 - accuracy: 0.3490\n",
      "Epoch 7/150\n",
      "77/77 [==============================] - 0s 869us/step - loss: 9.9279 - accuracy: 0.3490\n",
      "Epoch 8/150\n",
      "77/77 [==============================] - 0s 859us/step - loss: 9.9279 - accuracy: 0.3490\n",
      "Epoch 9/150\n",
      "77/77 [==============================] - 0s 907us/step - loss: 9.9279 - accuracy: 0.3490\n",
      "Epoch 10/150\n",
      "77/77 [==============================] - 0s 865us/step - loss: 9.9279 - accuracy: 0.3490\n",
      "Epoch 11/150\n",
      "77/77 [==============================] - 0s 861us/step - loss: 9.9279 - accuracy: 0.3490\n",
      "Epoch 12/150\n",
      "77/77 [==============================] - 0s 867us/step - loss: 9.9279 - accuracy: 0.3490\n",
      "Epoch 13/150\n",
      "77/77 [==============================] - 0s 913us/step - loss: 9.9279 - accuracy: 0.3490\n",
      "Epoch 14/150\n",
      "77/77 [==============================] - 0s 853us/step - loss: 9.9279 - accuracy: 0.3490\n",
      "Epoch 15/150\n",
      "77/77 [==============================] - 0s 871us/step - loss: 9.9279 - accuracy: 0.3490\n",
      "Epoch 16/150\n",
      "77/77 [==============================] - 0s 918us/step - loss: 9.9279 - accuracy: 0.3490\n",
      "Epoch 17/150\n",
      "77/77 [==============================] - 0s 861us/step - loss: 9.9279 - accuracy: 0.3490\n",
      "Epoch 18/150\n",
      "77/77 [==============================] - 0s 858us/step - loss: 9.9279 - accuracy: 0.3490\n",
      "Epoch 19/150\n",
      "77/77 [==============================] - 0s 871us/step - loss: 9.9279 - accuracy: 0.3490\n",
      "Epoch 20/150\n",
      "77/77 [==============================] - 0s 888us/step - loss: 9.9279 - accuracy: 0.3490\n",
      "Epoch 21/150\n",
      "77/77 [==============================] - 0s 860us/step - loss: 9.9279 - accuracy: 0.3490\n",
      "Epoch 22/150\n",
      "77/77 [==============================] - 0s 839us/step - loss: 9.9279 - accuracy: 0.3490\n",
      "Epoch 23/150\n",
      "77/77 [==============================] - 0s 851us/step - loss: 9.9279 - accuracy: 0.3490\n",
      "Epoch 24/150\n",
      "77/77 [==============================] - 0s 877us/step - loss: 9.9279 - accuracy: 0.3490\n",
      "Epoch 25/150\n",
      "77/77 [==============================] - 0s 834us/step - loss: 9.9279 - accuracy: 0.3490\n",
      "Epoch 26/150\n",
      "77/77 [==============================] - 0s 838us/step - loss: 9.9279 - accuracy: 0.3490\n",
      "Epoch 27/150\n",
      "77/77 [==============================] - 0s 839us/step - loss: 9.9279 - accuracy: 0.3490\n",
      "Epoch 28/150\n",
      "77/77 [==============================] - 0s 853us/step - loss: 9.9279 - accuracy: 0.3490\n",
      "Epoch 29/150\n",
      "77/77 [==============================] - 0s 878us/step - loss: 9.9279 - accuracy: 0.3490\n",
      "Epoch 30/150\n",
      "77/77 [==============================] - 0s 869us/step - loss: 9.9279 - accuracy: 0.3490\n",
      "Epoch 31/150\n",
      "77/77 [==============================] - 0s 861us/step - loss: 9.9279 - accuracy: 0.3490\n",
      "Epoch 32/150\n",
      "77/77 [==============================] - 0s 852us/step - loss: 9.9279 - accuracy: 0.3490\n",
      "Epoch 33/150\n",
      "77/77 [==============================] - 0s 872us/step - loss: 9.9279 - accuracy: 0.3490\n",
      "Epoch 34/150\n",
      "77/77 [==============================] - 0s 855us/step - loss: 9.9279 - accuracy: 0.3490\n",
      "Epoch 35/150\n",
      "77/77 [==============================] - 0s 862us/step - loss: 9.9279 - accuracy: 0.3490\n",
      "Epoch 36/150\n",
      "77/77 [==============================] - 0s 853us/step - loss: 9.9279 - accuracy: 0.3490\n",
      "Epoch 37/150\n",
      "77/77 [==============================] - 0s 846us/step - loss: 9.9279 - accuracy: 0.3490\n",
      "Epoch 38/150\n",
      "77/77 [==============================] - 0s 872us/step - loss: 9.9279 - accuracy: 0.3490\n",
      "Epoch 39/150\n",
      "77/77 [==============================] - 0s 844us/step - loss: 9.9279 - accuracy: 0.3490\n",
      "Epoch 40/150\n",
      "77/77 [==============================] - 0s 845us/step - loss: 9.9279 - accuracy: 0.3490\n",
      "Epoch 41/150\n",
      "77/77 [==============================] - 0s 858us/step - loss: 9.9279 - accuracy: 0.3490\n",
      "Epoch 42/150\n",
      "77/77 [==============================] - 0s 856us/step - loss: 9.9279 - accuracy: 0.3490\n",
      "Epoch 43/150\n",
      "77/77 [==============================] - 0s 869us/step - loss: 9.9279 - accuracy: 0.3490\n",
      "Epoch 44/150\n",
      "77/77 [==============================] - 0s 848us/step - loss: 9.9279 - accuracy: 0.3490\n",
      "Epoch 45/150\n",
      "77/77 [==============================] - 0s 892us/step - loss: 9.9279 - accuracy: 0.3490\n",
      "Epoch 46/150\n",
      "77/77 [==============================] - 0s 841us/step - loss: 9.9279 - accuracy: 0.3490\n",
      "Epoch 47/150\n",
      "77/77 [==============================] - 0s 881us/step - loss: 9.9279 - accuracy: 0.3490\n",
      "Epoch 48/150\n",
      "77/77 [==============================] - 0s 861us/step - loss: 9.9279 - accuracy: 0.3490\n",
      "Epoch 49/150\n",
      "77/77 [==============================] - 0s 850us/step - loss: 9.9279 - accuracy: 0.3490\n",
      "Epoch 50/150\n",
      "77/77 [==============================] - 0s 869us/step - loss: 9.9279 - accuracy: 0.3490\n",
      "Epoch 51/150\n",
      "77/77 [==============================] - 0s 845us/step - loss: 9.9279 - accuracy: 0.3490\n",
      "Epoch 52/150\n",
      "77/77 [==============================] - 0s 846us/step - loss: 9.9279 - accuracy: 0.3490\n",
      "Epoch 53/150\n",
      "77/77 [==============================] - 0s 859us/step - loss: 9.9279 - accuracy: 0.3490\n",
      "Epoch 54/150\n",
      "77/77 [==============================] - 0s 861us/step - loss: 9.9279 - accuracy: 0.3490\n",
      "Epoch 55/150\n",
      "77/77 [==============================] - 0s 871us/step - loss: 9.9279 - accuracy: 0.3490\n",
      "Epoch 56/150\n",
      "77/77 [==============================] - 0s 854us/step - loss: 9.9279 - accuracy: 0.3490\n",
      "Epoch 57/150\n",
      "77/77 [==============================] - 0s 855us/step - loss: 9.9279 - accuracy: 0.3490\n",
      "Epoch 58/150\n",
      "77/77 [==============================] - 0s 861us/step - loss: 9.9279 - accuracy: 0.3490\n",
      "Epoch 59/150\n",
      "77/77 [==============================] - 0s 853us/step - loss: 9.9279 - accuracy: 0.3490\n",
      "Epoch 60/150\n",
      "77/77 [==============================] - 0s 860us/step - loss: 9.9279 - accuracy: 0.3490\n",
      "Epoch 61/150\n",
      "77/77 [==============================] - 0s 895us/step - loss: 9.9279 - accuracy: 0.3490\n",
      "Epoch 62/150\n",
      "77/77 [==============================] - 0s 862us/step - loss: 9.9279 - accuracy: 0.3490\n",
      "Epoch 63/150\n",
      "77/77 [==============================] - 0s 857us/step - loss: 9.9279 - accuracy: 0.3490\n",
      "Epoch 64/150\n",
      "77/77 [==============================] - 0s 864us/step - loss: 9.9279 - accuracy: 0.3490\n",
      "Epoch 65/150\n",
      "77/77 [==============================] - 0s 859us/step - loss: 9.9279 - accuracy: 0.3490\n",
      "Epoch 66/150\n",
      "77/77 [==============================] - 0s 847us/step - loss: 9.9279 - accuracy: 0.3490\n",
      "Epoch 67/150\n",
      "77/77 [==============================] - 0s 856us/step - loss: 9.9279 - accuracy: 0.3490\n",
      "Epoch 68/150\n",
      "77/77 [==============================] - 0s 869us/step - loss: 9.9279 - accuracy: 0.3490\n",
      "Epoch 69/150\n",
      "77/77 [==============================] - 0s 863us/step - loss: 9.9279 - accuracy: 0.3490\n",
      "Epoch 70/150\n",
      "77/77 [==============================] - 0s 880us/step - loss: 9.9279 - accuracy: 0.3490\n",
      "Epoch 71/150\n",
      "77/77 [==============================] - 0s 846us/step - loss: 9.9279 - accuracy: 0.3490\n",
      "Epoch 72/150\n",
      "77/77 [==============================] - 0s 850us/step - loss: 9.9279 - accuracy: 0.3490\n",
      "Epoch 73/150\n",
      "77/77 [==============================] - 0s 881us/step - loss: 9.9279 - accuracy: 0.3490\n",
      "Epoch 74/150\n",
      "77/77 [==============================] - 0s 861us/step - loss: 9.9279 - accuracy: 0.3490\n",
      "Epoch 75/150\n",
      "77/77 [==============================] - 0s 855us/step - loss: 9.9279 - accuracy: 0.3490\n",
      "Epoch 76/150\n",
      "77/77 [==============================] - 0s 871us/step - loss: 9.9279 - accuracy: 0.3490\n",
      "Epoch 77/150\n",
      "77/77 [==============================] - 0s 846us/step - loss: 9.9279 - accuracy: 0.3490\n",
      "Epoch 78/150\n",
      "77/77 [==============================] - 0s 852us/step - loss: 9.9279 - accuracy: 0.3490\n",
      "Epoch 79/150\n",
      "77/77 [==============================] - 0s 885us/step - loss: 9.9279 - accuracy: 0.3490\n",
      "Epoch 80/150\n",
      "77/77 [==============================] - 0s 845us/step - loss: 9.9279 - accuracy: 0.3490\n",
      "Epoch 81/150\n"
     ]
    },
    {
     "name": "stdout",
     "output_type": "stream",
     "text": [
      "77/77 [==============================] - 0s 864us/step - loss: 9.9279 - accuracy: 0.3490\n",
      "Epoch 82/150\n",
      "77/77 [==============================] - 0s 842us/step - loss: 9.9279 - accuracy: 0.3490\n",
      "Epoch 83/150\n",
      "77/77 [==============================] - 0s 857us/step - loss: 9.9279 - accuracy: 0.3490\n",
      "Epoch 84/150\n",
      "77/77 [==============================] - 0s 849us/step - loss: 9.9279 - accuracy: 0.3490\n",
      "Epoch 85/150\n",
      "77/77 [==============================] - 0s 839us/step - loss: 9.9279 - accuracy: 0.3490\n",
      "Epoch 86/150\n",
      "77/77 [==============================] - 0s 847us/step - loss: 9.9279 - accuracy: 0.3490\n",
      "Epoch 87/150\n",
      "77/77 [==============================] - 0s 860us/step - loss: 9.9279 - accuracy: 0.3490\n",
      "Epoch 88/150\n",
      "77/77 [==============================] - 0s 876us/step - loss: 9.9279 - accuracy: 0.3490\n",
      "Epoch 89/150\n",
      "77/77 [==============================] - 0s 868us/step - loss: 9.9279 - accuracy: 0.3490\n",
      "Epoch 90/150\n",
      "77/77 [==============================] - 0s 852us/step - loss: 9.9279 - accuracy: 0.3490\n",
      "Epoch 91/150\n",
      "77/77 [==============================] - 0s 853us/step - loss: 9.9279 - accuracy: 0.3490\n",
      "Epoch 92/150\n",
      "77/77 [==============================] - 0s 850us/step - loss: 9.9279 - accuracy: 0.3490\n",
      "Epoch 93/150\n",
      "77/77 [==============================] - 0s 851us/step - loss: 9.9279 - accuracy: 0.3490\n",
      "Epoch 94/150\n",
      "77/77 [==============================] - 0s 852us/step - loss: 9.9279 - accuracy: 0.3490\n",
      "Epoch 95/150\n",
      "77/77 [==============================] - 0s 845us/step - loss: 9.9279 - accuracy: 0.3490\n",
      "Epoch 96/150\n",
      "77/77 [==============================] - 0s 837us/step - loss: 9.9279 - accuracy: 0.3490\n",
      "Epoch 97/150\n",
      "77/77 [==============================] - 0s 849us/step - loss: 9.9279 - accuracy: 0.3490\n",
      "Epoch 98/150\n",
      "77/77 [==============================] - 0s 847us/step - loss: 9.9279 - accuracy: 0.3490\n",
      "Epoch 99/150\n",
      "77/77 [==============================] - 0s 851us/step - loss: 9.9279 - accuracy: 0.3490\n",
      "Epoch 100/150\n",
      "77/77 [==============================] - 0s 891us/step - loss: 9.9279 - accuracy: 0.3490\n",
      "Epoch 101/150\n",
      "77/77 [==============================] - 0s 848us/step - loss: 9.9279 - accuracy: 0.3490\n",
      "Epoch 102/150\n",
      "77/77 [==============================] - 0s 845us/step - loss: 9.9279 - accuracy: 0.3490\n",
      "Epoch 103/150\n",
      "77/77 [==============================] - 0s 854us/step - loss: 9.9279 - accuracy: 0.3490\n",
      "Epoch 104/150\n",
      "77/77 [==============================] - 0s 853us/step - loss: 9.9279 - accuracy: 0.3490\n",
      "Epoch 105/150\n",
      "77/77 [==============================] - 0s 952us/step - loss: 9.9279 - accuracy: 0.3490\n",
      "Epoch 106/150\n",
      "77/77 [==============================] - 0s 857us/step - loss: 9.9279 - accuracy: 0.3490\n",
      "Epoch 107/150\n",
      "77/77 [==============================] - 0s 1ms/step - loss: 9.9279 - accuracy: 0.3490\n",
      "Epoch 108/150\n",
      "77/77 [==============================] - 0s 1ms/step - loss: 9.9279 - accuracy: 0.3490\n",
      "Epoch 109/150\n",
      "77/77 [==============================] - 0s 890us/step - loss: 9.9279 - accuracy: 0.3490\n",
      "Epoch 110/150\n",
      "77/77 [==============================] - 0s 872us/step - loss: 9.9279 - accuracy: 0.3490\n",
      "Epoch 111/150\n",
      "77/77 [==============================] - 0s 895us/step - loss: 9.9279 - accuracy: 0.3490\n",
      "Epoch 112/150\n",
      "77/77 [==============================] - 0s 1ms/step - loss: 9.9279 - accuracy: 0.3490\n",
      "Epoch 113/150\n",
      "77/77 [==============================] - 0s 997us/step - loss: 9.9279 - accuracy: 0.3490\n",
      "Epoch 114/150\n",
      "77/77 [==============================] - 0s 951us/step - loss: 9.9279 - accuracy: 0.3490\n",
      "Epoch 115/150\n",
      "77/77 [==============================] - 0s 967us/step - loss: 9.9279 - accuracy: 0.3490\n",
      "Epoch 116/150\n",
      "77/77 [==============================] - 0s 928us/step - loss: 9.9279 - accuracy: 0.3490\n",
      "Epoch 117/150\n",
      "77/77 [==============================] - 0s 946us/step - loss: 9.9279 - accuracy: 0.3490\n",
      "Epoch 118/150\n",
      "77/77 [==============================] - 0s 905us/step - loss: 9.9279 - accuracy: 0.3490\n",
      "Epoch 119/150\n",
      "77/77 [==============================] - 0s 895us/step - loss: 9.9279 - accuracy: 0.3490\n",
      "Epoch 120/150\n",
      "77/77 [==============================] - 0s 922us/step - loss: 9.9279 - accuracy: 0.3490\n",
      "Epoch 121/150\n",
      "77/77 [==============================] - 0s 902us/step - loss: 9.9279 - accuracy: 0.3490\n",
      "Epoch 122/150\n",
      "77/77 [==============================] - 0s 937us/step - loss: 9.9279 - accuracy: 0.3490\n",
      "Epoch 123/150\n",
      "77/77 [==============================] - 0s 913us/step - loss: 9.9279 - accuracy: 0.3490\n",
      "Epoch 124/150\n",
      "77/77 [==============================] - 0s 960us/step - loss: 9.9279 - accuracy: 0.3490\n",
      "Epoch 125/150\n",
      "77/77 [==============================] - 0s 876us/step - loss: 9.9279 - accuracy: 0.3490\n",
      "Epoch 126/150\n",
      "77/77 [==============================] - 0s 859us/step - loss: 9.9279 - accuracy: 0.3490\n",
      "Epoch 127/150\n",
      "77/77 [==============================] - 0s 878us/step - loss: 9.9279 - accuracy: 0.3490\n",
      "Epoch 128/150\n",
      "77/77 [==============================] - 0s 865us/step - loss: 9.9279 - accuracy: 0.3490\n",
      "Epoch 129/150\n",
      "77/77 [==============================] - 0s 867us/step - loss: 9.9279 - accuracy: 0.3490\n",
      "Epoch 130/150\n",
      "77/77 [==============================] - 0s 868us/step - loss: 9.9279 - accuracy: 0.3490\n",
      "Epoch 131/150\n",
      "77/77 [==============================] - 0s 870us/step - loss: 9.9279 - accuracy: 0.3490\n",
      "Epoch 132/150\n",
      "77/77 [==============================] - 0s 856us/step - loss: 9.9279 - accuracy: 0.3490\n",
      "Epoch 133/150\n",
      "77/77 [==============================] - 0s 874us/step - loss: 9.9279 - accuracy: 0.3490\n",
      "Epoch 134/150\n",
      "77/77 [==============================] - 0s 872us/step - loss: 9.9279 - accuracy: 0.3490\n",
      "Epoch 135/150\n",
      "77/77 [==============================] - 0s 852us/step - loss: 9.9279 - accuracy: 0.3490\n",
      "Epoch 136/150\n",
      "77/77 [==============================] - 0s 849us/step - loss: 9.9279 - accuracy: 0.3490\n",
      "Epoch 137/150\n",
      "77/77 [==============================] - 0s 850us/step - loss: 9.9279 - accuracy: 0.3490\n",
      "Epoch 138/150\n",
      "77/77 [==============================] - 0s 843us/step - loss: 9.9279 - accuracy: 0.3490\n",
      "Epoch 139/150\n",
      "77/77 [==============================] - 0s 854us/step - loss: 9.9279 - accuracy: 0.3490\n",
      "Epoch 140/150\n",
      "77/77 [==============================] - 0s 866us/step - loss: 9.9279 - accuracy: 0.3490\n",
      "Epoch 141/150\n",
      "77/77 [==============================] - 0s 858us/step - loss: 9.9279 - accuracy: 0.3490\n",
      "Epoch 142/150\n",
      "77/77 [==============================] - 0s 866us/step - loss: 9.9279 - accuracy: 0.3490\n",
      "Epoch 143/150\n",
      "77/77 [==============================] - 0s 854us/step - loss: 9.9279 - accuracy: 0.3490\n",
      "Epoch 144/150\n",
      "77/77 [==============================] - 0s 864us/step - loss: 9.9279 - accuracy: 0.3490\n",
      "Epoch 145/150\n",
      "77/77 [==============================] - 0s 860us/step - loss: 9.9279 - accuracy: 0.3490\n",
      "Epoch 146/150\n",
      "77/77 [==============================] - 0s 876us/step - loss: 9.9279 - accuracy: 0.3490\n",
      "Epoch 147/150\n",
      "77/77 [==============================] - 0s 858us/step - loss: 9.9279 - accuracy: 0.3490\n",
      "Epoch 148/150\n",
      "77/77 [==============================] - 0s 868us/step - loss: 9.9279 - accuracy: 0.3490\n",
      "Epoch 149/150\n",
      "77/77 [==============================] - 0s 860us/step - loss: 9.9279 - accuracy: 0.3490\n",
      "Epoch 150/150\n",
      "77/77 [==============================] - 0s 873us/step - loss: 9.9279 - accuracy: 0.3490\n"
     ]
    },
    {
     "data": {
      "text/plain": [
       "<keras.callbacks.History at 0x7f534046dc10>"
      ]
     },
     "execution_count": 9,
     "metadata": {},
     "output_type": "execute_result"
    }
   ],
   "source": [
    "model.fit(X, Y, epochs=150, batch_size=10)"
   ]
  },
  {
   "cell_type": "markdown",
   "metadata": {},
   "source": [
    "We can now export the Keras model to ONNX."
   ]
  },
  {
   "cell_type": "code",
   "execution_count": 11,
   "metadata": {},
   "outputs": [
    {
     "name": "stdout",
     "output_type": "stream",
     "text": [
      "Wrote ONNX model with bounds at /run/user/1000/tmpqpbwum7l.onnx\n"
     ]
    },
    {
     "name": "stderr",
     "output_type": "stream",
     "text": [
      "2022-01-20 16:43:14.575119: I tensorflow/core/grappler/devices.cc:66] Number of eligible GPUs (core count >= 8, compute capability >= 0.0): 0\n",
      "2022-01-20 16:43:14.575253: I tensorflow/core/grappler/clusters/single_machine.cc:358] Starting new session\n",
      "2022-01-20 16:43:14.576318: I tensorflow/core/grappler/optimizers/meta_optimizer.cc:1149] Optimization results for grappler item: graph_to_optimize\n",
      "  function_optimizer: function_optimizer did nothing. time = 0.007ms.\n",
      "  function_optimizer: function_optimizer did nothing. time = 0.001ms.\n",
      "\n",
      "2022-01-20 16:43:14.607727: I tensorflow/core/grappler/devices.cc:66] Number of eligible GPUs (core count >= 8, compute capability >= 0.0): 0\n",
      "2022-01-20 16:43:14.607844: I tensorflow/core/grappler/clusters/single_machine.cc:358] Starting new session\n",
      "2022-01-20 16:43:14.610024: I tensorflow/core/grappler/optimizers/meta_optimizer.cc:1149] Optimization results for grappler item: graph_to_optimize\n",
      "  constant_folding: Graph size after: 17 nodes (-6), 22 edges (-6), time = 0.709ms.\n",
      "  function_optimizer: function_optimizer did nothing. time = 0.016ms.\n",
      "  constant_folding: Graph size after: 17 nodes (0), 22 edges (0), time = 0.273ms.\n",
      "  function_optimizer: function_optimizer did nothing. time = 0.013ms.\n",
      "\n"
     ]
    }
   ],
   "source": [
    "import tf2onnx\n",
    "\n",
    "onnx_model, _ = tf2onnx.convert.from_keras(model)\n",
    "\n",
    "with tempfile.NamedTemporaryFile(suffix='.onnx', delete=False) as f:\n",
    "    write_onnx_model_with_bounds(f.name, onnx_model, input_bounds)\n",
    "    print(f\"Wrote ONNX model with bounds at {f.name}\")"
   ]
  },
  {
   "cell_type": "markdown",
   "metadata": {},
   "source": [
    "The model after serialization looks like the following:"
   ]
  },
  {
   "cell_type": "code",
   "execution_count": 12,
   "metadata": {},
   "outputs": [
    {
     "data": {
      "image/png": "[encoded data removed]",
      "text/plain": [
       "<IPython.core.display.Image object>"
      ]
     },
     "execution_count": 12,
     "metadata": {
      "image/png": {
       "height": 600
      }
     },
     "output_type": "execute_result"
    }
   ],
   "source": [
    "Image(filename='../images/simple-neural-network.png', height=600)"
   ]
  },
  {
   "cell_type": "markdown",
   "metadata": {},
   "source": [
    "## PyTorch"
   ]
  },
  {
   "cell_type": "markdown",
   "metadata": {},
   "source": [
    "We start by building a simple model using the PyTorch API."
   ]
  },
  {
   "cell_type": "code",
   "execution_count": 13,
   "metadata": {},
   "outputs": [
    {
     "name": "stdout",
     "output_type": "stream",
     "text": [
      "Epoch number: 0 loss : 0.44717517495155334\n",
      "Epoch number: 10 loss : 0.25081491470336914\n",
      "Epoch number: 20 loss : 0.25500303506851196\n",
      "Epoch number: 30 loss : 0.25055018067359924\n",
      "Epoch number: 40 loss : 0.2514561414718628\n",
      "Epoch number: 50 loss : 0.250571608543396\n",
      "Epoch number: 60 loss : 0.2516418695449829\n",
      "Epoch number: 70 loss : 0.2557390332221985\n",
      "Epoch number: 80 loss : 0.25027358531951904\n",
      "Epoch number: 90 loss : 0.2511991262435913\n",
      "Epoch number: 100 loss : 0.25142383575439453\n",
      "Epoch number: 110 loss : 0.25165319442749023\n",
      "Epoch number: 120 loss : 0.25143325328826904\n",
      "Epoch number: 130 loss : 0.251662015914917\n",
      "Epoch number: 140 loss : 0.25000011920928955\n"
     ]
    }
   ],
   "source": [
    "import torch\n",
    "import torch.nn as nn\n",
    "import torch.nn.functional as F\n",
    "from torch.utils.data import DataLoader, TensorDataset\n",
    "\n",
    "class PyTorchModel(nn.Module):\n",
    "    def __init__(self):\n",
    "        super().__init__()\n",
    "        self.dense_0 = nn.Linear(8, 12)\n",
    "        self.dense_1 = nn.Linear(12, 1)\n",
    "        self.out = nn.Linear(1, 1)\n",
    "\n",
    "    def forward(self, x):\n",
    "        x = F.relu(self.dense_0(x))\n",
    "        x = F.relu(self.dense_1(x))\n",
    "        x = self.out(x)\n",
    "        return x\n",
    "\n",
    "model = PyTorchModel()\n",
    "loss_function = nn.L1Loss()\n",
    "optimizer = torch.optim.Adam(model.parameters(),lr=0.01)\n",
    "\n",
    "dataset = TensorDataset(torch.as_tensor(X, dtype=torch.float32), torch.as_tensor(Y, dtype=torch.float32))\n",
    "dataloader = DataLoader(dataset, batch_size=10)\n",
    "\n",
    "for epoch in range(150):\n",
    "    for id_batch, (x_batch, y_batch) in enumerate(dataloader):\n",
    "        y_batch_pred = model(x_batch)\n",
    "        loss = loss_function(y_batch_pred, y_batch.view(*y_batch_pred.shape))\n",
    "        optimizer.zero_grad()\n",
    "        loss.backward()\n",
    "        optimizer.step()\n",
    "\n",
    "    if epoch % 10 == 0:\n",
    "        print(f\"Epoch number: {epoch} loss : {loss.item()}\")\n"
   ]
  },
  {
   "cell_type": "markdown",
   "metadata": {},
   "source": [
    "We can now export the PyTorch model to ONNX. Notice that we need to specify that the first axis of the input should be ignored since it represent training batches. Also notice that PyTorch write the ONNX model directly to the specified file, so we don't pass the raw ONNX model to `write_onnx_model_with_bounds` and instead we only specify the bounds."
   ]
  },
  {
   "cell_type": "code",
   "execution_count": 14,
   "metadata": {},
   "outputs": [
    {
     "name": "stdout",
     "output_type": "stream",
     "text": [
      "Wrote PyTorch model to /run/user/1000/tmpc8i5kaln.onnx\n"
     ]
    }
   ],
   "source": [
    "import torch.onnx\n",
    "\n",
    "# model input used for exporting\n",
    "x = torch.randn(10, 8, requires_grad=True)\n",
    "pytorch_model = None\n",
    "with tempfile.NamedTemporaryFile(suffix='.onnx', delete=False) as f:\n",
    "    torch.onnx.export(\n",
    "        model,\n",
    "        x,\n",
    "        f,\n",
    "        input_names=['input'],\n",
    "        output_names=['output'],\n",
    "        dynamic_axes={\n",
    "            'input': {0: 'batch_size'},\n",
    "            'output': {0: 'batch_size'}\n",
    "        }\n",
    "    )\n",
    "    write_onnx_model_with_bounds(f.name, None, input_bounds)\n",
    "    print(f\"Wrote PyTorch model to {f.name}\")\n",
    "    pytorch_model = f.name"
   ]
  },
  {
   "cell_type": "code",
   "execution_count": 15,
   "metadata": {},
   "outputs": [
    {
     "data": {
      "image/png": "[encoded data removed]",
      "text/plain": [
       "<IPython.core.display.Image object>"
      ]
     },
     "execution_count": 15,
     "metadata": {
      "image/png": {
       "height": 500
      }
     },
     "output_type": "execute_result"
    }
   ],
   "source": [
    "Image(filename='../images/torch-neural-network.png', height=500)"
   ]
  },
  {
   "cell_type": "markdown",
   "metadata": {},
   "source": [
    "## Importing ONNX into OMLT\n",
    "\n",
    "Finally, we can import the ONNX model and bounds into OMLT."
   ]
  },
  {
   "cell_type": "code",
   "execution_count": 16,
   "metadata": {},
   "outputs": [],
   "source": [
    "network_definition = load_onnx_neural_network_with_bounds(pytorch_model)"
   ]
  },
  {
   "cell_type": "markdown",
   "metadata": {},
   "source": [
    "The network definition includes the bounds we defined at the beginning of this notebook."
   ]
  },
  {
   "cell_type": "code",
   "execution_count": 17,
   "metadata": {},
   "outputs": [
    {
     "data": {
      "text/plain": [
       "{0: (0.0, 17.0),\n",
       " 1: (0.0, 199.0),\n",
       " 2: (0.0, 122.0),\n",
       " 3: (0.0, 99.0),\n",
       " 4: (0.0, 846.0),\n",
       " 5: (0.0, 67.1),\n",
       " 6: (0.078, 2.42),\n",
       " 7: (21.0, 81.0)}"
      ]
     },
     "execution_count": 17,
     "metadata": {},
     "output_type": "execute_result"
    }
   ],
   "source": [
    "network_definition.scaled_input_bounds"
   ]
  },
  {
   "cell_type": "markdown",
   "metadata": {},
   "source": [
    "We can iterate over the layers to print their input and output shape, together with the activation function."
   ]
  },
  {
   "cell_type": "code",
   "execution_count": 18,
   "metadata": {},
   "outputs": [
    {
     "name": "stdout",
     "output_type": "stream",
     "text": [
      "0\tInputLayer(input_size=[8], output_size=[8])\tlinear\n",
      "1\tDenseLayer(input_size=[8], output_size=[12])\trelu\n",
      "2\tDenseLayer(input_size=[12], output_size=[1])\trelu\n",
      "3\tDenseLayer(input_size=[1], output_size=[1])\tlinear\n"
     ]
    }
   ],
   "source": [
    "for layer_id, layer in enumerate(network_definition.layers):\n",
    "    print(f\"{layer_id}\\t{layer}\\t{layer.activation}\")"
   ]
  },
  {
   "cell_type": "markdown",
   "metadata": {},
   "source": [
    "## References\n",
    "\n",
    "[0] Smith, Jack W., et al. \"Using the ADAP learning algorithm to forecast the onset of diabetes mellitus.\" Proceedings of the annual symposium on computer application in medical care. American Medical Informatics Association, 1988."
   ]
  },
  {
   "cell_type": "code",
   "execution_count": null,
   "metadata": {},
   "outputs": [],
   "source": []
  }
 ],
 "metadata": {
  "interpreter": {
   "hash": "b8f31a8284ce774e9ad8d309790c576c984c0620550967f9ef361ac8e66f487d"
  },
  "kernelspec": {
   "display_name": "Python 3 (ipykernel)",
   "language": "python",
   "name": "python3"
  },
  "language_info": {
   "codemirror_mode": {
    "name": "ipython",
    "version": 3
   },
   "file_extension": ".py",
   "mimetype": "text/x-python",
   "name": "python",
   "nbconvert_exporter": "python",
   "pygments_lexer": "ipython3",
   "version": "3.9.6"
  }
 },
 "nbformat": 4,
 "nbformat_minor": 2
}
