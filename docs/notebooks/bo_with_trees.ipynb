{
 "cells": [
  {
   "cell_type": "markdown",
   "id": "f1be2240",
   "metadata": {},
   "source": [
    "# Bayesian Optimization with Trees in OMLT\n",
    "\n",
    "This notebook introduces the gradient-boosted trees (GBT) functionality of `OMLT` and how such models can be incorporated in Bayesian optimization loops. For a more comprehensive framework using GBT models for Bayesian optimization please check out another project of our group: [ENTMOOT](https://github.com/cog-imperial/entmoot)."
   ]
  },
  {
   "cell_type": "markdown",
   "id": "1e86cf82",
   "metadata": {},
   "source": [
    "## List of Python Imports\n",
    "We start by importing a list of dependencies to implement the example. `OMLT` is compatible with all tree ensemble training libraries that support ONNX outputs. In this tutorial we use the `lightgbm` package."
   ]
  },
  {
   "cell_type": "code",
   "execution_count": 214,
   "id": "69b8fd42",
   "metadata": {},
   "outputs": [],
   "source": [
    "import random\n",
    "import tempfile\n",
    "import numpy as np\n",
    "import lightgbm as lgb\n",
    "import pyomo.environ as pe\n",
    "from onnxmltools.convert.lightgbm.convert import convert\n",
    "from skl2onnx.common.data_types import FloatTensorType\n",
    "from omlt.block import OmltBlock\n",
    "from omlt.gbt import BigMFormulation, GradientBoostedTreeModel\n",
    "\n",
    "from helpers import generate_gbt_data\n",
    "\n",
    "random.seed(100)"
   ]
  },
  {
   "cell_type": "markdown",
   "id": "abb93c95",
   "metadata": {},
   "source": [
    "## Define Dataset\n",
    "We first define a simple dataset by sampling 100 random points from the 10D Rastrigin function. Every input feature of the Rastrigin function is bounded by `(-5.12, 5.12)`."
   ]
  },
  {
   "cell_type": "code",
   "execution_count": 226,
   "id": "45f9fa84",
   "metadata": {},
   "outputs": [],
   "source": [
    "def f(X):\n",
    "    # Rastrigin benchmark function\n",
    "    x = np.asarray_chkfinite(X)\n",
    "    n = len(x)\n",
    "    res = 10*n + sum( x**2 - 10 * np.cos( 2 * np.pi * x ))\n",
    "    return res\n",
    "\n",
    "f_bnds = [(-5.12,5.12) for _ in range(10)]\n",
    "\n",
    "# generate dataset\n",
    "data = {'X': [], 'y': []}\n",
    "\n",
    "for _ in range(50):\n",
    "    sample =[random.uniform(*bnd) for bnd in f_bnds]\n",
    "    \n",
    "    data['X'].append(sample)\n",
    "    data['y'].append(f(sample))"
   ]
  },
  {
   "cell_type": "markdown",
   "id": "fe952fbe",
   "metadata": {},
   "source": [
    "## Train the Tree Ensemble\n",
    "Next we define our training function to train the tree ensemble based on the data we generated."
   ]
  },
  {
   "cell_type": "code",
   "execution_count": 216,
   "id": "f43157cf",
   "metadata": {},
   "outputs": [],
   "source": [
    "def train_tree(data):\n",
    "    FIXED_PARAMS = {'objective': 'regression',\n",
    "                    'metric': 'rmse',\n",
    "                    'boosting': 'gbdt',\n",
    "                    'num_trees': 200,\n",
    "                    'max_depth': 3,\n",
    "                    'min_data_in_leaf': 2,\n",
    "                    'random_state': 100,\n",
    "                    'verbose': -1}\n",
    "\n",
    "    train_data = lgb.Dataset(data['X'], \n",
    "                             label=data['y'],\n",
    "                             params={'verbose': -1})\n",
    "\n",
    "    model = lgb.train(FIXED_PARAMS, \n",
    "                      train_data,\n",
    "                      verbose_eval=False)\n",
    "    return model"
   ]
  },
  {
   "cell_type": "markdown",
   "id": "14f2127b",
   "metadata": {},
   "source": [
    "## Handling Trees with ONNX\n",
    "ONNX needs to know the number of features and their type. Currently, ONNX doesn't support categorical features so we can only train models with continous features in `lightgbm`. To handle categorical features we recommend to perform a one-hot encoding transformation first."
   ]
  },
  {
   "cell_type": "code",
   "execution_count": 217,
   "id": "7c88bfe0",
   "metadata": {},
   "outputs": [],
   "source": [
    "def get_onnx_model(lgb_model):\n",
    "    # export onnx model\n",
    "    float_tensor_type = FloatTensorType([None, lgb_model.num_feature()])\n",
    "    initial_type = [('float_input', float_tensor_type)]\n",
    "    onnx_model = convert(lgb_model, \n",
    "                         initial_types=initial_type, \n",
    "                         target_opset=8)\n",
    "    return onnx_model"
   ]
  },
  {
   "cell_type": "markdown",
   "id": "51f3eff0",
   "metadata": {},
   "source": [
    "You can write the ONNX model to a file so that it can be inspected using a tool like [Netron](https://netron.app/)."
   ]
  },
  {
   "cell_type": "code",
   "execution_count": 218,
   "id": "d71706df",
   "metadata": {
    "scrolled": true
   },
   "outputs": [
    {
     "name": "stdout",
     "output_type": "stream",
     "text": [
      "Onnx model written to /var/folders/05/s3jw9hyd1l95qtpg8jjbkv340000gn/T/tmpjul262xp.onnx\n"
     ]
    }
   ],
   "source": [
    "# build lightgbm model and export from onnx\n",
    "lgb_model = train_tree(data)\n",
    "onnx_model = get_onnx_model(lgb_model)\n",
    "\n",
    "with tempfile.NamedTemporaryFile(suffix='.onnx', delete=False) as f:\n",
    "    f.write(onnx_model.SerializeToString())\n",
    "    print(f'Onnx model written to {f.name}')"
   ]
  },
  {
   "cell_type": "markdown",
   "id": "368cbfdb",
   "metadata": {},
   "source": [
    "## Build the Pyomo Model\n",
    "We build the `Pyomo` model by first defining the input bounds and input domain."
   ]
  },
  {
   "cell_type": "code",
   "execution_count": 219,
   "id": "a03e619e",
   "metadata": {},
   "outputs": [],
   "source": [
    "# define problem specifications\n",
    "input_bounds = f_bnds\n",
    "input_domain = [pe.Reals for _ in range(len(input_bounds))]\n",
    "\n",
    "def get_opt_model_core(input_domain, input_bounds):\n",
    "    # init optimization model\n",
    "    opt_model = pe.ConcreteModel()\n",
    "    return opt_model\n",
    "\n",
    "opt_model = get_opt_model_core(input_domain, input_bounds)"
   ]
  },
  {
   "cell_type": "markdown",
   "id": "cb2bf141",
   "metadata": {},
   "source": [
    "We can print the model to check if everything worked correctly."
   ]
  },
  {
   "cell_type": "code",
   "execution_count": 220,
   "id": "c1092bec",
   "metadata": {},
   "outputs": [
    {
     "name": "stdout",
     "output_type": "stream",
     "text": [
      "0 Declarations: \n"
     ]
    }
   ],
   "source": [
    "opt_model.pprint()"
   ]
  },
  {
   "cell_type": "markdown",
   "id": "a42448a4",
   "metadata": {},
   "source": [
    "We import the general `OMLT` block and the `GradientBoostedTreeModel` module. `OMLT` uses `BigMFormulation` to encode the tree ensembles. This optimization model formulation was adapted from Misic 2020."
   ]
  },
  {
   "cell_type": "code",
   "execution_count": 221,
   "id": "067c6910",
   "metadata": {},
   "outputs": [],
   "source": [
    "from omlt.block import OmltBlock\n",
    "from omlt.gbt import BigMFormulation, GradientBoostedTreeModel"
   ]
  },
  {
   "cell_type": "markdown",
   "id": "6175e4f1",
   "metadata": {},
   "source": [
    "In include the tree model as a `Pyomo` block we import a few objects from `OMLT` and add everything to our optimization model."
   ]
  },
  {
   "cell_type": "code",
   "execution_count": 222,
   "id": "7a386025",
   "metadata": {},
   "outputs": [],
   "source": [
    "def add_tree_model(opt_model, onnx_model, input_bounds):\n",
    "    # init omlt block and gbt model based on the onnx format\n",
    "    opt_model.gbt = OmltBlock()\n",
    "    gbt_model = GradientBoostedTreeModel(onnx_model, \n",
    "                                         input_bounds=input_bounds)\n",
    "    \n",
    "    # omlt uses a big-m formulation to encode the tree models\n",
    "    formulation = BigMFormulation(gbt_model)\n",
    "    opt_model.gbt.build_formulation(formulation)\n",
    "    \n",
    "add_tree_model(opt_model, onnx_model, input_bounds)"
   ]
  },
  {
   "cell_type": "markdown",
   "id": "67394ac2",
   "metadata": {},
   "source": [
    "Add an uncertainty metric to the model"
   ]
  },
  {
   "cell_type": "code",
   "execution_count": 223,
   "id": "1162bdf9",
   "metadata": {},
   "outputs": [],
   "source": [
    "import numpy as np\n",
    "def add_unc_metric(opt_model, data):\n",
    "    data_x = np.asarray(data['X'])\n",
    "    std = np.std(data_x, axis=0)\n",
    "    mean = np.mean(data_x, axis=0)\n",
    "    data_x = np.divide(data_x - mean, std)\n",
    "    \n",
    "    alpha_bound = abs(0.5*np.var(data['y']))\n",
    "    opt_model.alpha = pe.Var(within=pe.NonNegativeReals, bounds=(0,alpha_bound))\n",
    "    opt_model.unc_constr = pe.ConstraintList()\n",
    "    \n",
    "    for x in data_x:\n",
    "        x_var = opt_model.gbt.inputs\n",
    "        opt_model.unc_constr.add(\n",
    "            opt_model.alpha <= sum( (x[idx]-(x_var[idx]-mean[idx])/std[idx])*(x[idx]-(x_var[idx]-mean[idx])/std[idx]) \n",
    "                                   for idx in range(len(x_var)) )\n",
    "        )"
   ]
  },
  {
   "cell_type": "code",
   "execution_count": 229,
   "id": "f239d5ef",
   "metadata": {},
   "outputs": [],
   "source": [
    "import gurobipy\n",
    "\n",
    "def get_next_x(opt_model):\n",
    "    opt_model.obj = pe.Objective(expr=opt_model.gbt.outputs[0] - 1.96*opt_model.alpha)\n",
    "    solver = pe.SolverFactory('gurobi')\n",
    "    solver.options['NonConvex'] = 2\n",
    "    solution = solver.solve(opt_model, tee=False)\n",
    "    return [opt_model.gbt.inputs[idx].value \n",
    "            for idx in range(len(opt_model.gbt.inputs))]"
   ]
  },
  {
   "cell_type": "code",
   "execution_count": 231,
   "id": "114c04fe",
   "metadata": {
    "scrolled": true
   },
   "outputs": [
    {
     "name": "stdout",
     "output_type": "stream",
     "text": [
      "y_next: 320.0996013245152\n",
      "gbt: 103.59557610563934\n",
      "lgbm_next: 280.21503361606045\n",
      "\n",
      "y_next: 354.8219945519526\n",
      "gbt: 101.08319323509932\n",
      "lgbm_next: 281.31142802038175\n",
      "\n",
      "y_next: 310.86202596574253\n",
      "gbt: 99.13616622705013\n",
      "lgbm_next: 321.8859683992703\n",
      "\n",
      "y_next: 330.8472345143324\n",
      "gbt: 107.6737381964922\n",
      "lgbm_next: 325.09017200093757\n",
      "\n",
      "y_next: 335.92289001432397\n",
      "gbt: 103.14691489003599\n",
      "lgbm_next: 323.3649222167264\n",
      "\n",
      "y_next: 317.1814134770142\n",
      "gbt: 102.25235510803759\n",
      "lgbm_next: 325.0586607026989\n",
      "\n",
      "y_next: 297.9911704525108\n",
      "gbt: 103.50438061915338\n",
      "lgbm_next: 292.26282959102326\n",
      "\n",
      "y_next: 324.9194777672926\n",
      "gbt: 102.03288578987122\n",
      "lgbm_next: 322.73052495885264\n",
      "\n",
      "y_next: 335.9237069063596\n",
      "gbt: 102.25173620507121\n",
      "lgbm_next: 331.59762739605856\n",
      "\n",
      "y_next: 324.4226441972911\n",
      "gbt: 102.76865433342755\n",
      "lgbm_next: 336.70953254169814\n",
      "\n",
      "y_next: 329.0913136181446\n",
      "gbt: 98.72145158424973\n",
      "lgbm_next: 326.80882947346447\n",
      "\n",
      "y_next: 324.659603401865\n",
      "gbt: 100.41079062782228\n",
      "lgbm_next: 310.6554567693622\n",
      "\n",
      "y_next: 335.4437472534424\n",
      "gbt: 101.60888210870326\n",
      "lgbm_next: 315.362291572328\n",
      "\n",
      "y_next: 324.8134721178153\n",
      "gbt: 101.69321697577834\n",
      "lgbm_next: 330.6123683541773\n",
      "\n",
      "y_next: 303.8800373689247\n",
      "gbt: 101.52356955036521\n",
      "lgbm_next: 330.1217317126057\n",
      "\n",
      "y_next: 312.14573895216927\n",
      "gbt: 103.11326222866774\n",
      "lgbm_next: 335.7586586756641\n",
      "\n",
      "y_next: 338.15013120117266\n",
      "gbt: 103.3153530023992\n",
      "lgbm_next: 336.2079398940282\n",
      "\n",
      "y_next: 309.2541040533738\n",
      "gbt: 95.77848171070218\n",
      "lgbm_next: 310.79734064052894\n",
      "\n",
      "y_next: 315.61715111771025\n",
      "gbt: 103.32314239628613\n",
      "lgbm_next: 321.77330718483853\n",
      "\n",
      "y_next: 310.1776663608152\n",
      "gbt: 99.10554516501725\n",
      "lgbm_next: 321.7505122413958\n",
      "\n",
      "y_next: 307.69579852603295\n",
      "gbt: 97.51521948724985\n",
      "lgbm_next: 319.3161321661564\n",
      "\n",
      "y_next: 327.5812357942277\n",
      "gbt: 97.57051875814795\n",
      "lgbm_next: 327.25102873926676\n",
      "\n",
      "y_next: 332.21621977407494\n",
      "gbt: 96.57790643721819\n",
      "lgbm_next: 310.57497125108324\n",
      "\n",
      "y_next: 289.4999377688849\n",
      "gbt: 89.26807892136276\n",
      "lgbm_next: 313.46667981170503\n",
      "\n",
      "y_next: 317.616443449688\n",
      "gbt: 99.9423939306289\n",
      "lgbm_next: 321.58914942536404\n",
      "\n",
      "y_next: 312.3793143027249\n",
      "gbt: 98.74798638001084\n",
      "lgbm_next: 306.74653012694773\n",
      "\n",
      "y_next: 300.54492703429503\n",
      "gbt: 93.87391514331102\n",
      "lgbm_next: 306.3693233521551\n",
      "\n",
      "y_next: 326.4774010682799\n",
      "gbt: 98.34287359192967\n",
      "lgbm_next: 295.05351751050745\n",
      "\n",
      "y_next: 310.54025489182624\n",
      "gbt: 97.66029360704124\n",
      "lgbm_next: 318.9737191089743\n",
      "\n"
     ]
    },
    {
     "ename": "KeyboardInterrupt",
     "evalue": "",
     "output_type": "error",
     "traceback": [
      "\u001b[0;31m---------------------------------------------------------------------------\u001b[0m",
      "\u001b[0;31mKeyboardInterrupt\u001b[0m                         Traceback (most recent call last)",
      "\u001b[0;32m/var/folders/05/s3jw9hyd1l95qtpg8jjbkv340000gn/T/ipykernel_35214/3490429968.py\u001b[0m in \u001b[0;36m<module>\u001b[0;34m\u001b[0m\n\u001b[1;32m      4\u001b[0m     \u001b[0;31m# train the model\u001b[0m\u001b[0;34m\u001b[0m\u001b[0;34m\u001b[0m\u001b[0;34m\u001b[0m\u001b[0m\n\u001b[1;32m      5\u001b[0m     \u001b[0mlgb_model\u001b[0m \u001b[0;34m=\u001b[0m \u001b[0mtrain_tree\u001b[0m\u001b[0;34m(\u001b[0m\u001b[0mdata\u001b[0m\u001b[0;34m)\u001b[0m\u001b[0;34m\u001b[0m\u001b[0;34m\u001b[0m\u001b[0m\n\u001b[0;32m----> 6\u001b[0;31m     \u001b[0monnx_model\u001b[0m \u001b[0;34m=\u001b[0m \u001b[0mget_onnx_model\u001b[0m\u001b[0;34m(\u001b[0m\u001b[0mlgb_model\u001b[0m\u001b[0;34m)\u001b[0m\u001b[0;34m\u001b[0m\u001b[0;34m\u001b[0m\u001b[0m\n\u001b[0m\u001b[1;32m      7\u001b[0m \u001b[0;34m\u001b[0m\u001b[0m\n\u001b[1;32m      8\u001b[0m     \u001b[0;31m# build optimization model\u001b[0m\u001b[0;34m\u001b[0m\u001b[0;34m\u001b[0m\u001b[0;34m\u001b[0m\u001b[0m\n",
      "\u001b[0;32m/var/folders/05/s3jw9hyd1l95qtpg8jjbkv340000gn/T/ipykernel_35214/3054514319.py\u001b[0m in \u001b[0;36mget_onnx_model\u001b[0;34m(lgb_model)\u001b[0m\n\u001b[1;32m      5\u001b[0m     onnx_model = convert(lgb_model, \n\u001b[1;32m      6\u001b[0m                          \u001b[0minitial_types\u001b[0m\u001b[0;34m=\u001b[0m\u001b[0minitial_type\u001b[0m\u001b[0;34m,\u001b[0m\u001b[0;34m\u001b[0m\u001b[0;34m\u001b[0m\u001b[0m\n\u001b[0;32m----> 7\u001b[0;31m                          target_opset=8)\n\u001b[0m\u001b[1;32m      8\u001b[0m     \u001b[0;32mreturn\u001b[0m \u001b[0monnx_model\u001b[0m\u001b[0;34m\u001b[0m\u001b[0;34m\u001b[0m\u001b[0m\n",
      "\u001b[0;32m~/miniconda3/lib/python3.7/site-packages/onnxmltools/convert/lightgbm/convert.py\u001b[0m in \u001b[0;36mconvert\u001b[0;34m(model, name, initial_types, doc_string, target_opset, targeted_onnx, custom_conversion_functions, custom_shape_calculators, without_onnx_ml, zipmap, split)\u001b[0m\n\u001b[1;32m     65\u001b[0m                               custom_shape_calculators, zipmap=zipmap, split=split)\n\u001b[1;32m     66\u001b[0m     \u001b[0mtopology\u001b[0m\u001b[0;34m.\u001b[0m\u001b[0mcompile\u001b[0m\u001b[0;34m(\u001b[0m\u001b[0;34m)\u001b[0m\u001b[0;34m\u001b[0m\u001b[0;34m\u001b[0m\u001b[0m\n\u001b[0;32m---> 67\u001b[0;31m     \u001b[0monnx_ml_model\u001b[0m \u001b[0;34m=\u001b[0m \u001b[0mconvert_topology\u001b[0m\u001b[0;34m(\u001b[0m\u001b[0mtopology\u001b[0m\u001b[0;34m,\u001b[0m \u001b[0mname\u001b[0m\u001b[0;34m,\u001b[0m \u001b[0mdoc_string\u001b[0m\u001b[0;34m,\u001b[0m \u001b[0mtarget_opset\u001b[0m\u001b[0;34m,\u001b[0m \u001b[0mtargeted_onnx\u001b[0m\u001b[0;34m)\u001b[0m\u001b[0;34m\u001b[0m\u001b[0;34m\u001b[0m\u001b[0m\n\u001b[0m\u001b[1;32m     68\u001b[0m \u001b[0;34m\u001b[0m\u001b[0m\n\u001b[1;32m     69\u001b[0m     \u001b[0;32mif\u001b[0m \u001b[0mwithout_onnx_ml\u001b[0m\u001b[0;34m:\u001b[0m\u001b[0;34m\u001b[0m\u001b[0;34m\u001b[0m\u001b[0m\n",
      "\u001b[0;32m~/miniconda3/lib/python3.7/site-packages/onnxconverter_common/topology.py\u001b[0m in \u001b[0;36mconvert_topology\u001b[0;34m(topology, model_name, doc_string, target_opset, targeted_onnx, channel_first_inputs)\u001b[0m\n\u001b[1;32m    774\u001b[0m         \u001b[0;32melse\u001b[0m\u001b[0;34m:\u001b[0m\u001b[0;34m\u001b[0m\u001b[0;34m\u001b[0m\u001b[0m\n\u001b[1;32m    775\u001b[0m             \u001b[0;31m# Convert the selected operator into some ONNX objects and save them into the container\u001b[0m\u001b[0;34m\u001b[0m\u001b[0;34m\u001b[0m\u001b[0;34m\u001b[0m\u001b[0m\n\u001b[0;32m--> 776\u001b[0;31m             \u001b[0mget_converter\u001b[0m\u001b[0;34m(\u001b[0m\u001b[0moperator\u001b[0m\u001b[0;34m.\u001b[0m\u001b[0mtype\u001b[0m\u001b[0;34m)\u001b[0m\u001b[0;34m(\u001b[0m\u001b[0mscope\u001b[0m\u001b[0;34m,\u001b[0m \u001b[0moperator\u001b[0m\u001b[0;34m,\u001b[0m \u001b[0mcontainer\u001b[0m\u001b[0;34m)\u001b[0m\u001b[0;34m\u001b[0m\u001b[0;34m\u001b[0m\u001b[0m\n\u001b[0m\u001b[1;32m    777\u001b[0m \u001b[0;34m\u001b[0m\u001b[0m\n\u001b[1;32m    778\u001b[0m     \u001b[0;31m# When calling ModelComponentContainer's add_initializer(...), nothing is added into the input list.\u001b[0m\u001b[0;34m\u001b[0m\u001b[0;34m\u001b[0m\u001b[0;34m\u001b[0m\u001b[0m\n",
      "\u001b[0;32m~/miniconda3/lib/python3.7/site-packages/onnxmltools/convert/lightgbm/operator_converters/LightGbm.py\u001b[0m in \u001b[0;36mconvert_lightgbm\u001b[0;34m(scope, operator, container)\u001b[0m\n\u001b[1;32m    606\u001b[0m             container.add_node(\n\u001b[1;32m    607\u001b[0m                 \u001b[0;34m'TreeEnsembleRegressor'\u001b[0m\u001b[0;34m,\u001b[0m \u001b[0moperator\u001b[0m\u001b[0;34m.\u001b[0m\u001b[0minput_full_names\u001b[0m\u001b[0;34m,\u001b[0m\u001b[0;34m\u001b[0m\u001b[0;34m\u001b[0m\u001b[0m\n\u001b[0;32m--> 608\u001b[0;31m                 output_name, op_domain='ai.onnx.ml', **attrs)\n\u001b[0m\u001b[1;32m    609\u001b[0m         \u001b[0;32melse\u001b[0m\u001b[0;34m:\u001b[0m\u001b[0;34m\u001b[0m\u001b[0;34m\u001b[0m\u001b[0m\n\u001b[1;32m    610\u001b[0m             \u001b[0mtree_attrs\u001b[0m \u001b[0;34m=\u001b[0m \u001b[0m_split_tree_ensemble_atts\u001b[0m\u001b[0;34m(\u001b[0m\u001b[0mattrs\u001b[0m\u001b[0;34m,\u001b[0m \u001b[0msplit\u001b[0m\u001b[0;34m)\u001b[0m\u001b[0;34m\u001b[0m\u001b[0;34m\u001b[0m\u001b[0m\n",
      "\u001b[0;32m~/miniconda3/lib/python3.7/site-packages/onnxconverter_common/container.py\u001b[0m in \u001b[0;36madd_node\u001b[0;34m(self, op_type, inputs, outputs, op_domain, op_version, **attrs)\u001b[0m\n\u001b[1;32m    169\u001b[0m                 \u001b[0;32mraise\u001b[0m \u001b[0mValueError\u001b[0m\u001b[0;34m(\u001b[0m\u001b[0;34m'Failed to create ONNX node. Undefined attribute pair (%s, %s) found'\u001b[0m \u001b[0;34m%\u001b[0m \u001b[0;34m(\u001b[0m\u001b[0mk\u001b[0m\u001b[0;34m,\u001b[0m \u001b[0mv\u001b[0m\u001b[0;34m)\u001b[0m\u001b[0;34m)\u001b[0m\u001b[0;34m\u001b[0m\u001b[0;34m\u001b[0m\u001b[0m\n\u001b[1;32m    170\u001b[0m \u001b[0;34m\u001b[0m\u001b[0m\n\u001b[0;32m--> 171\u001b[0;31m         \u001b[0mnode\u001b[0m \u001b[0;34m=\u001b[0m \u001b[0mhelper\u001b[0m\u001b[0;34m.\u001b[0m\u001b[0mmake_node\u001b[0m\u001b[0;34m(\u001b[0m\u001b[0mop_type\u001b[0m\u001b[0;34m,\u001b[0m \u001b[0minputs\u001b[0m\u001b[0;34m,\u001b[0m \u001b[0moutputs\u001b[0m\u001b[0;34m,\u001b[0m \u001b[0;34m**\u001b[0m\u001b[0mattrs\u001b[0m\u001b[0;34m)\u001b[0m\u001b[0;34m\u001b[0m\u001b[0;34m\u001b[0m\u001b[0m\n\u001b[0m\u001b[1;32m    172\u001b[0m         \u001b[0mnode\u001b[0m\u001b[0;34m.\u001b[0m\u001b[0mdomain\u001b[0m \u001b[0;34m=\u001b[0m \u001b[0mop_domain\u001b[0m\u001b[0;34m\u001b[0m\u001b[0;34m\u001b[0m\u001b[0m\n\u001b[1;32m    173\u001b[0m \u001b[0;34m\u001b[0m\u001b[0m\n",
      "\u001b[0;32m~/miniconda3/lib/python3.7/site-packages/onnx/helper.py\u001b[0m in \u001b[0;36mmake_node\u001b[0;34m(op_type, inputs, outputs, name, doc_string, domain, **kwargs)\u001b[0m\n\u001b[1;32m    116\u001b[0m         node.attribute.extend(\n\u001b[1;32m    117\u001b[0m             \u001b[0mmake_attribute\u001b[0m\u001b[0;34m(\u001b[0m\u001b[0mkey\u001b[0m\u001b[0;34m,\u001b[0m \u001b[0mvalue\u001b[0m\u001b[0;34m)\u001b[0m\u001b[0;34m\u001b[0m\u001b[0;34m\u001b[0m\u001b[0m\n\u001b[0;32m--> 118\u001b[0;31m             \u001b[0;32mfor\u001b[0m \u001b[0mkey\u001b[0m\u001b[0;34m,\u001b[0m \u001b[0mvalue\u001b[0m \u001b[0;32min\u001b[0m \u001b[0msorted\u001b[0m\u001b[0;34m(\u001b[0m\u001b[0mkwargs\u001b[0m\u001b[0;34m.\u001b[0m\u001b[0mitems\u001b[0m\u001b[0;34m(\u001b[0m\u001b[0;34m)\u001b[0m\u001b[0;34m)\u001b[0m\u001b[0;34m\u001b[0m\u001b[0;34m\u001b[0m\u001b[0m\n\u001b[0m\u001b[1;32m    119\u001b[0m             if value is not None)\n\u001b[1;32m    120\u001b[0m     \u001b[0;32mreturn\u001b[0m \u001b[0mnode\u001b[0m\u001b[0;34m\u001b[0m\u001b[0;34m\u001b[0m\u001b[0m\n",
      "\u001b[0;32m~/miniconda3/lib/python3.7/site-packages/onnx/helper.py\u001b[0m in \u001b[0;36m<genexpr>\u001b[0;34m(.0)\u001b[0m\n\u001b[1;32m    117\u001b[0m             \u001b[0mmake_attribute\u001b[0m\u001b[0;34m(\u001b[0m\u001b[0mkey\u001b[0m\u001b[0;34m,\u001b[0m \u001b[0mvalue\u001b[0m\u001b[0;34m)\u001b[0m\u001b[0;34m\u001b[0m\u001b[0;34m\u001b[0m\u001b[0m\n\u001b[1;32m    118\u001b[0m             \u001b[0;32mfor\u001b[0m \u001b[0mkey\u001b[0m\u001b[0;34m,\u001b[0m \u001b[0mvalue\u001b[0m \u001b[0;32min\u001b[0m \u001b[0msorted\u001b[0m\u001b[0;34m(\u001b[0m\u001b[0mkwargs\u001b[0m\u001b[0;34m.\u001b[0m\u001b[0mitems\u001b[0m\u001b[0;34m(\u001b[0m\u001b[0;34m)\u001b[0m\u001b[0;34m)\u001b[0m\u001b[0;34m\u001b[0m\u001b[0;34m\u001b[0m\u001b[0m\n\u001b[0;32m--> 119\u001b[0;31m             if value is not None)\n\u001b[0m\u001b[1;32m    120\u001b[0m     \u001b[0;32mreturn\u001b[0m \u001b[0mnode\u001b[0m\u001b[0;34m\u001b[0m\u001b[0;34m\u001b[0m\u001b[0m\n\u001b[1;32m    121\u001b[0m \u001b[0;34m\u001b[0m\u001b[0m\n",
      "\u001b[0;32m~/miniconda3/lib/python3.7/site-packages/onnx/helper.py\u001b[0m in \u001b[0;36mmake_attribute\u001b[0;34m(key, value, doc_string)\u001b[0m\n\u001b[1;32m    394\u001b[0m     \u001b[0;32melif\u001b[0m \u001b[0mis_iterable\u001b[0m\u001b[0;34m:\u001b[0m\u001b[0;34m\u001b[0m\u001b[0;34m\u001b[0m\u001b[0m\n\u001b[1;32m    395\u001b[0m         \u001b[0mbyte_array\u001b[0m \u001b[0;34m=\u001b[0m \u001b[0;34m[\u001b[0m\u001b[0m_to_bytes_or_false\u001b[0m\u001b[0;34m(\u001b[0m\u001b[0mv\u001b[0m\u001b[0;34m)\u001b[0m \u001b[0;32mfor\u001b[0m \u001b[0mv\u001b[0m \u001b[0;32min\u001b[0m \u001b[0mvalue\u001b[0m\u001b[0;34m]\u001b[0m\u001b[0;34m\u001b[0m\u001b[0;34m\u001b[0m\u001b[0m\n\u001b[0;32m--> 396\u001b[0;31m         \u001b[0;32mif\u001b[0m \u001b[0mall\u001b[0m\u001b[0;34m(\u001b[0m\u001b[0misinstance\u001b[0m\u001b[0;34m(\u001b[0m\u001b[0mv\u001b[0m\u001b[0;34m,\u001b[0m \u001b[0mnumbers\u001b[0m\u001b[0;34m.\u001b[0m\u001b[0mIntegral\u001b[0m\u001b[0;34m)\u001b[0m \u001b[0;32mfor\u001b[0m \u001b[0mv\u001b[0m \u001b[0;32min\u001b[0m \u001b[0mvalue\u001b[0m\u001b[0;34m)\u001b[0m\u001b[0;34m:\u001b[0m\u001b[0;34m\u001b[0m\u001b[0;34m\u001b[0m\u001b[0m\n\u001b[0m\u001b[1;32m    397\u001b[0m             \u001b[0;31m# Turn np.int32/64 into Python built-in int.\u001b[0m\u001b[0;34m\u001b[0m\u001b[0;34m\u001b[0m\u001b[0;34m\u001b[0m\u001b[0m\n\u001b[1;32m    398\u001b[0m             \u001b[0mattr\u001b[0m\u001b[0;34m.\u001b[0m\u001b[0mints\u001b[0m\u001b[0;34m.\u001b[0m\u001b[0mextend\u001b[0m\u001b[0;34m(\u001b[0m\u001b[0mint\u001b[0m\u001b[0;34m(\u001b[0m\u001b[0mv\u001b[0m\u001b[0;34m)\u001b[0m \u001b[0;32mfor\u001b[0m \u001b[0mv\u001b[0m \u001b[0;32min\u001b[0m \u001b[0mvalue\u001b[0m\u001b[0;34m)\u001b[0m\u001b[0;34m\u001b[0m\u001b[0;34m\u001b[0m\u001b[0m\n",
      "\u001b[0;32m~/miniconda3/lib/python3.7/site-packages/onnx/helper.py\u001b[0m in \u001b[0;36m<genexpr>\u001b[0;34m(.0)\u001b[0m\n\u001b[1;32m    394\u001b[0m     \u001b[0;32melif\u001b[0m \u001b[0mis_iterable\u001b[0m\u001b[0;34m:\u001b[0m\u001b[0;34m\u001b[0m\u001b[0;34m\u001b[0m\u001b[0m\n\u001b[1;32m    395\u001b[0m         \u001b[0mbyte_array\u001b[0m \u001b[0;34m=\u001b[0m \u001b[0;34m[\u001b[0m\u001b[0m_to_bytes_or_false\u001b[0m\u001b[0;34m(\u001b[0m\u001b[0mv\u001b[0m\u001b[0;34m)\u001b[0m \u001b[0;32mfor\u001b[0m \u001b[0mv\u001b[0m \u001b[0;32min\u001b[0m \u001b[0mvalue\u001b[0m\u001b[0;34m]\u001b[0m\u001b[0;34m\u001b[0m\u001b[0;34m\u001b[0m\u001b[0m\n\u001b[0;32m--> 396\u001b[0;31m         \u001b[0;32mif\u001b[0m \u001b[0mall\u001b[0m\u001b[0;34m(\u001b[0m\u001b[0misinstance\u001b[0m\u001b[0;34m(\u001b[0m\u001b[0mv\u001b[0m\u001b[0;34m,\u001b[0m \u001b[0mnumbers\u001b[0m\u001b[0;34m.\u001b[0m\u001b[0mIntegral\u001b[0m\u001b[0;34m)\u001b[0m \u001b[0;32mfor\u001b[0m \u001b[0mv\u001b[0m \u001b[0;32min\u001b[0m \u001b[0mvalue\u001b[0m\u001b[0;34m)\u001b[0m\u001b[0;34m:\u001b[0m\u001b[0;34m\u001b[0m\u001b[0;34m\u001b[0m\u001b[0m\n\u001b[0m\u001b[1;32m    397\u001b[0m             \u001b[0;31m# Turn np.int32/64 into Python built-in int.\u001b[0m\u001b[0;34m\u001b[0m\u001b[0;34m\u001b[0m\u001b[0;34m\u001b[0m\u001b[0m\n\u001b[1;32m    398\u001b[0m             \u001b[0mattr\u001b[0m\u001b[0;34m.\u001b[0m\u001b[0mints\u001b[0m\u001b[0;34m.\u001b[0m\u001b[0mextend\u001b[0m\u001b[0;34m(\u001b[0m\u001b[0mint\u001b[0m\u001b[0;34m(\u001b[0m\u001b[0mv\u001b[0m\u001b[0;34m)\u001b[0m \u001b[0;32mfor\u001b[0m \u001b[0mv\u001b[0m \u001b[0;32min\u001b[0m \u001b[0mvalue\u001b[0m\u001b[0;34m)\u001b[0m\u001b[0;34m\u001b[0m\u001b[0;34m\u001b[0m\u001b[0m\n",
      "\u001b[0;32m~/miniconda3/lib/python3.7/abc.py\u001b[0m in \u001b[0;36m__instancecheck__\u001b[0;34m(cls, instance)\u001b[0m\n\u001b[1;32m    137\u001b[0m         \u001b[0;32mdef\u001b[0m \u001b[0m__instancecheck__\u001b[0m\u001b[0;34m(\u001b[0m\u001b[0mcls\u001b[0m\u001b[0;34m,\u001b[0m \u001b[0minstance\u001b[0m\u001b[0;34m)\u001b[0m\u001b[0;34m:\u001b[0m\u001b[0;34m\u001b[0m\u001b[0;34m\u001b[0m\u001b[0m\n\u001b[1;32m    138\u001b[0m             \u001b[0;34m\"\"\"Override for isinstance(instance, cls).\"\"\"\u001b[0m\u001b[0;34m\u001b[0m\u001b[0;34m\u001b[0m\u001b[0m\n\u001b[0;32m--> 139\u001b[0;31m             \u001b[0;32mreturn\u001b[0m \u001b[0m_abc_instancecheck\u001b[0m\u001b[0;34m(\u001b[0m\u001b[0mcls\u001b[0m\u001b[0;34m,\u001b[0m \u001b[0minstance\u001b[0m\u001b[0;34m)\u001b[0m\u001b[0;34m\u001b[0m\u001b[0;34m\u001b[0m\u001b[0m\n\u001b[0m\u001b[1;32m    140\u001b[0m \u001b[0;34m\u001b[0m\u001b[0m\n\u001b[1;32m    141\u001b[0m         \u001b[0;32mdef\u001b[0m \u001b[0m__subclasscheck__\u001b[0m\u001b[0;34m(\u001b[0m\u001b[0mcls\u001b[0m\u001b[0;34m,\u001b[0m \u001b[0msubclass\u001b[0m\u001b[0;34m)\u001b[0m\u001b[0;34m:\u001b[0m\u001b[0;34m\u001b[0m\u001b[0;34m\u001b[0m\u001b[0m\n",
      "\u001b[0;32m~/miniconda3/lib/python3.7/abc.py\u001b[0m in \u001b[0;36m__subclasscheck__\u001b[0;34m(cls, subclass)\u001b[0m\n\u001b[1;32m    141\u001b[0m         \u001b[0;32mdef\u001b[0m \u001b[0m__subclasscheck__\u001b[0m\u001b[0;34m(\u001b[0m\u001b[0mcls\u001b[0m\u001b[0;34m,\u001b[0m \u001b[0msubclass\u001b[0m\u001b[0;34m)\u001b[0m\u001b[0;34m:\u001b[0m\u001b[0;34m\u001b[0m\u001b[0;34m\u001b[0m\u001b[0m\n\u001b[1;32m    142\u001b[0m             \u001b[0;34m\"\"\"Override for issubclass(subclass, cls).\"\"\"\u001b[0m\u001b[0;34m\u001b[0m\u001b[0;34m\u001b[0m\u001b[0m\n\u001b[0;32m--> 143\u001b[0;31m             \u001b[0;32mreturn\u001b[0m \u001b[0m_abc_subclasscheck\u001b[0m\u001b[0;34m(\u001b[0m\u001b[0mcls\u001b[0m\u001b[0;34m,\u001b[0m \u001b[0msubclass\u001b[0m\u001b[0;34m)\u001b[0m\u001b[0;34m\u001b[0m\u001b[0;34m\u001b[0m\u001b[0m\n\u001b[0m\u001b[1;32m    144\u001b[0m \u001b[0;34m\u001b[0m\u001b[0m\n\u001b[1;32m    145\u001b[0m         \u001b[0;32mdef\u001b[0m \u001b[0m_dump_registry\u001b[0m\u001b[0;34m(\u001b[0m\u001b[0mcls\u001b[0m\u001b[0;34m,\u001b[0m \u001b[0mfile\u001b[0m\u001b[0;34m=\u001b[0m\u001b[0;32mNone\u001b[0m\u001b[0;34m)\u001b[0m\u001b[0;34m:\u001b[0m\u001b[0;34m\u001b[0m\u001b[0;34m\u001b[0m\u001b[0m\n",
      "\u001b[0;31mKeyboardInterrupt\u001b[0m: "
     ]
    }
   ],
   "source": [
    "# run Bayesian optimization loop\n",
    "\n",
    "for itr in range(50):\n",
    "    # train the model\n",
    "    lgb_model = train_tree(data)\n",
    "    onnx_model = get_onnx_model(lgb_model)\n",
    "    \n",
    "    # build optimization model\n",
    "    opt_model = get_opt_model_core(input_domain, input_bounds)\n",
    "    add_tree_model(opt_model, onnx_model, input_bounds)\n",
    "    add_unc_metric(opt_model, data)\n",
    "    \n",
    "    # get next point to evaluate\n",
    "    x_next = get_next_x(opt_model)\n",
    "    y_next = f(x_next)\n",
    "    data['X'].append(x_next)\n",
    "    data['y'].append(y_next)\n",
    "    \n",
    "    print(f\"alpha: {opt_model.alpha.value}\")\n",
    "    print(f\"y_next: {y_next}\")\n",
    "    \n",
    "    # If I understand the model formulation correctly, the next two values should be equal\n",
    "    print(f\"gbt: {opt_model.gbt.outputs[0].value}\")\n",
    "    print(f\"lgbm_next: {lgb_model.predict(np.atleast_2d(x_next))[0]}\")\n",
    "    print(\"\")"
   ]
  },
  {
   "cell_type": "code",
   "execution_count": null,
   "id": "748da606",
   "metadata": {},
   "outputs": [],
   "source": []
  },
  {
   "cell_type": "code",
   "execution_count": null,
   "id": "02f512c0",
   "metadata": {},
   "outputs": [],
   "source": []
  }
 ],
 "metadata": {
  "kernelspec": {
   "display_name": "Python 3 (ipykernel)",
   "language": "python",
   "name": "python3"
  },
  "language_info": {
   "codemirror_mode": {
    "name": "ipython",
    "version": 3
   },
   "file_extension": ".py",
   "mimetype": "text/x-python",
   "name": "python",
   "nbconvert_exporter": "python",
   "pygments_lexer": "ipython3",
   "version": "3.7.4"
  }
 },
 "nbformat": 4,
 "nbformat_minor": 5
}
