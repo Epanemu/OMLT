{
 "cells": [
  {
   "cell_type": "markdown",
   "id": "f1be2240",
   "metadata": {},
   "source": [
    "# Bayesian Optimization with Trees in OMLT\n",
    "\n",
    "This notebook introduces the gradient-boosted trees (GBT) functionality of `OMLT` and how such models can be incorporated in Bayesian optimization loops. For a more comprehensive framework using GBT models for Bayesian optimization please check out another project of our group: [ENTMOOT](https://github.com/cog-imperial/entmoot)."
   ]
  },
  {
   "cell_type": "markdown",
   "id": "1e86cf82",
   "metadata": {},
   "source": [
    "## List of Python Imports\n",
    "We start by importing a list of dependencies to implement the example. `OMLT` is compatible with all tree ensemble training libraries that support ONNX outputs. In this tutorial we use the `lightgbm` package."
   ]
  },
  {
   "cell_type": "code",
   "execution_count": 2,
   "id": "69b8fd42",
   "metadata": {},
   "outputs": [],
   "source": [
    "import random\n",
    "import tempfile\n",
    "import numpy as np\n",
    "import lightgbm as lgb\n",
    "import pyomo.environ as pe\n",
    "from onnxmltools.convert.lightgbm.convert import convert\n",
    "from skl2onnx.common.data_types import FloatTensorType\n",
    "from omlt.block import OmltBlock\n",
    "from omlt.gbt import BigMFormulation, GradientBoostedTreeModel\n",
    "\n",
    "from helpers import generate_gbt_data\n",
    "\n",
    "random.seed(100)"
   ]
  },
  {
   "cell_type": "markdown",
   "id": "abb93c95",
   "metadata": {},
   "source": [
    "## Define Dataset\n",
    "We first define a simple dataset by sampling 100 random points from the 10D Rastrigin function. Every input feature of the Rastrigin function is bounded by `(-5.12, 5.12)`."
   ]
  },
  {
   "cell_type": "code",
   "execution_count": 3,
   "id": "45f9fa84",
   "metadata": {},
   "outputs": [],
   "source": [
    "def f(X):\n",
    "    # Rastrigin benchmark function\n",
    "    x = np.asarray_chkfinite(X)\n",
    "    n = len(x)\n",
    "    res = 10*n + sum( x**2 - 10 * np.cos( 2 * np.pi * x ))\n",
    "    return res\n",
    "\n",
    "f_bnds = [(-5.12,5.12) for _ in range(10)]\n",
    "\n",
    "# generate dataset\n",
    "data = {'X': [], 'y': []}\n",
    "\n",
    "for _ in range(100):\n",
    "    sample =[random.uniform(*bnd) for bnd in f_bnds]\n",
    "    \n",
    "    data['X'].append(sample)\n",
    "    data['y'].append(f(sample))"
   ]
  },
  {
   "cell_type": "markdown",
   "id": "fe952fbe",
   "metadata": {},
   "source": [
    "## Train the Tree Ensemble\n",
    "Next we define our training function to train the tree ensemble based on the data we generated."
   ]
  },
  {
   "cell_type": "code",
   "execution_count": 4,
   "id": "f43157cf",
   "metadata": {},
   "outputs": [],
   "source": [
    "def train_tree(data):\n",
    "    FIXED_PARAMS = {'objective': 'regression',\n",
    "                    'metric': 'rmse',\n",
    "                    'boosting': 'gbdt',\n",
    "                    'num_trees': 20,\n",
    "                    'max_depth': 3,\n",
    "                    'min_data_in_leaf': 2,\n",
    "                    'min_data_per_group': 2,\n",
    "                    'random_state': 100,\n",
    "                    'verbose': -1}\n",
    "\n",
    "    train_data = lgb.Dataset(data['X'], \n",
    "                             label=data['y'],\n",
    "                             params={'verbose': -1})\n",
    "\n",
    "    model = lgb.train(FIXED_PARAMS, \n",
    "                      train_data,\n",
    "                      verbose_eval=False)\n",
    "    return model"
   ]
  },
  {
   "cell_type": "markdown",
   "id": "14f2127b",
   "metadata": {},
   "source": [
    "## Handling Trees with ONNX\n",
    "ONNX needs to know the number of features and their type. Currently, ONNX doesn't support categorical features so we can only train models with continous features in `lightgbm`. To handle categorical features we recommend to perform a one-hot encoding transformation first."
   ]
  },
  {
   "cell_type": "code",
   "execution_count": 5,
   "id": "7c88bfe0",
   "metadata": {},
   "outputs": [],
   "source": [
    "def get_onnx_model(lgb_model):\n",
    "    # export onnx model\n",
    "    float_tensor_type = FloatTensorType([None, lgb_model.num_feature()])\n",
    "    initial_type = [('float_input', float_tensor_type)]\n",
    "    onnx_model = convert(lgb_model, \n",
    "                         initial_types=initial_type, \n",
    "                         target_opset=8)\n",
    "    return onnx_model"
   ]
  },
  {
   "cell_type": "markdown",
   "id": "51f3eff0",
   "metadata": {},
   "source": [
    "You can write the ONNX model to a file so that it can be inspected using a tool like [Netron](https://netron.app/)."
   ]
  },
  {
   "cell_type": "code",
   "execution_count": 6,
   "id": "d71706df",
   "metadata": {
    "scrolled": true
   },
   "outputs": [
    {
     "name": "stdout",
     "output_type": "stream",
     "text": [
      "Onnx model written to /var/folders/05/s3jw9hyd1l95qtpg8jjbkv340000gn/T/tmpttvmw05j.onnx\n"
     ]
    },
    {
     "name": "stderr",
     "output_type": "stream",
     "text": [
      "/Users/alex/miniconda3/lib/python3.7/site-packages/lightgbm/engine.py:151: UserWarning: Found `num_trees` in params. Will use it instead of argument\n",
      "  warnings.warn(\"Found `{}` in params. Will use it instead of argument\".format(alias))\n"
     ]
    }
   ],
   "source": [
    "# build lightgbm model and export from onnx\n",
    "lgb_model = train_tree(data)\n",
    "onnx_model = get_onnx_model(lgb_model)\n",
    "\n",
    "with tempfile.NamedTemporaryFile(suffix='.onnx', delete=False) as f:\n",
    "    f.write(onnx_model.SerializeToString())\n",
    "    print(f'Onnx model written to {f.name}')"
   ]
  },
  {
   "cell_type": "markdown",
   "id": "368cbfdb",
   "metadata": {},
   "source": [
    "## Build the Pyomo Model\n",
    "We build the `Pyomo` model by first defining the input bounds and input domain."
   ]
  },
  {
   "cell_type": "code",
   "execution_count": 7,
   "id": "a03e619e",
   "metadata": {},
   "outputs": [],
   "source": [
    "# define problem specifications\n",
    "input_bounds = f_bnds\n",
    "input_domain = [pe.Reals for _ in range(len(input_bounds))]\n",
    "\n",
    "def get_opt_model_core(input_domain, input_bounds):\n",
    "    # init optimization model\n",
    "    opt_model = pe.ConcreteModel()\n",
    "\n",
    "    # define the optimization model\n",
    "    opt_model.x = pe.Var(range(len(input_bounds)), \n",
    "                         domain=lambda m, i: input_domain[i], \n",
    "                         bounds=lambda m, i: input_bounds[i])\n",
    "    return opt_model\n",
    "\n",
    "opt_model = get_opt_model_core(input_domain, input_bounds)"
   ]
  },
  {
   "cell_type": "markdown",
   "id": "cb2bf141",
   "metadata": {},
   "source": [
    "We can print the model to check if everything worked correctly."
   ]
  },
  {
   "cell_type": "code",
   "execution_count": 8,
   "id": "c1092bec",
   "metadata": {},
   "outputs": [
    {
     "name": "stdout",
     "output_type": "stream",
     "text": [
      "1 Set Declarations\n",
      "    x_index : Size=1, Index=None, Ordered=False\n",
      "        Key  : Dimen : Domain : Size : Members\n",
      "        None :     1 :    Any :   10 : {0, 1, 2, 3, 4, 5, 6, 7, 8, 9}\n",
      "\n",
      "1 Var Declarations\n",
      "    x : Size=10, Index=x_index\n",
      "        Key : Lower : Value : Upper : Fixed : Stale : Domain\n",
      "          0 : -5.12 :  None :  5.12 : False :  True :  Reals\n",
      "          1 : -5.12 :  None :  5.12 : False :  True :  Reals\n",
      "          2 : -5.12 :  None :  5.12 : False :  True :  Reals\n",
      "          3 : -5.12 :  None :  5.12 : False :  True :  Reals\n",
      "          4 : -5.12 :  None :  5.12 : False :  True :  Reals\n",
      "          5 : -5.12 :  None :  5.12 : False :  True :  Reals\n",
      "          6 : -5.12 :  None :  5.12 : False :  True :  Reals\n",
      "          7 : -5.12 :  None :  5.12 : False :  True :  Reals\n",
      "          8 : -5.12 :  None :  5.12 : False :  True :  Reals\n",
      "          9 : -5.12 :  None :  5.12 : False :  True :  Reals\n",
      "\n",
      "2 Declarations: x_index x\n"
     ]
    }
   ],
   "source": [
    "opt_model.pprint()"
   ]
  },
  {
   "cell_type": "markdown",
   "id": "a42448a4",
   "metadata": {},
   "source": [
    "We import the general `OMLT` block and the `GradientBoostedTreeModel` module. `OMLT` uses `BigMFormulation` to encode the tree ensembles. This optimization model formulation was adapted from Misic 2020."
   ]
  },
  {
   "cell_type": "code",
   "execution_count": 9,
   "id": "067c6910",
   "metadata": {},
   "outputs": [],
   "source": [
    "from omlt.block import OmltBlock\n",
    "from omlt.gbt import BigMFormulation, GradientBoostedTreeModel"
   ]
  },
  {
   "cell_type": "markdown",
   "id": "6175e4f1",
   "metadata": {},
   "source": [
    "In include the tree model as a `Pyomo` block we import a few objects from `OMLT` and add everything to our optimization model."
   ]
  },
  {
   "cell_type": "code",
   "execution_count": 10,
   "id": "7a386025",
   "metadata": {},
   "outputs": [],
   "source": [
    "def add_tree_model(opt_model, onnx_model, input_bounds):\n",
    "    # init omlt block and gbt model based on the onnx format\n",
    "    opt_model.gbt = OmltBlock()\n",
    "    gbt_model = GradientBoostedTreeModel(onnx_model, \n",
    "                                         input_bounds=input_bounds)\n",
    "    \n",
    "    # omlt uses a big-m formulation to encode the tree models\n",
    "    formulation = BigMFormulation(gbt_model)\n",
    "    opt_model.gbt.build_formulation(formulation)\n",
    "    opt_model.obj = pe.Objective(expr=opt_model.gbt.outputs[0])\n",
    "    \n",
    "add_tree_model(opt_model, onnx_model, input_bounds)"
   ]
  },
  {
   "cell_type": "markdown",
   "id": "67394ac2",
   "metadata": {},
   "source": [
    "Solve the problems"
   ]
  },
  {
   "cell_type": "code",
   "execution_count": 11,
   "id": "f239d5ef",
   "metadata": {},
   "outputs": [
    {
     "name": "stdout",
     "output_type": "stream",
     "text": [
      "WARNING: Implicitly replacing the Component attribute obj (type=<class\n",
      "    'pyomo.core.base.objective.ScalarObjective'>) on block unknown with a new\n",
      "    Component (type=<class 'pyomo.core.base.objective.ScalarObjective'>). This\n",
      "    is usually indicative of a modelling error. To avoid this warning, use\n",
      "    block.del_component() and block.add_component().\n",
      "WARNING: The gurobipy module (an optional Pyomo dependency) failed to import:\n",
      "    AttributeError: module 'gurobipy' has no attribute 'gurobi'\n"
     ]
    },
    {
     "ename": "ApplicationError",
     "evalue": "No Python bindings available for <class 'pyomo.solvers.plugins.solvers.gurobi_direct.GurobiDirect'> solver plugin",
     "output_type": "error",
     "traceback": [
      "\u001b[0;31m---------------------------------------------------------------------------\u001b[0m",
      "\u001b[0;31mApplicationError\u001b[0m                          Traceback (most recent call last)",
      "\u001b[0;32m/var/folders/05/s3jw9hyd1l95qtpg8jjbkv340000gn/T/ipykernel_20278/1775183049.py\u001b[0m in \u001b[0;36m<module>\u001b[0;34m\u001b[0m\n\u001b[1;32m      2\u001b[0m \u001b[0mopt_model\u001b[0m\u001b[0;34m.\u001b[0m\u001b[0mobj\u001b[0m \u001b[0;34m=\u001b[0m \u001b[0mpe\u001b[0m\u001b[0;34m.\u001b[0m\u001b[0mObjective\u001b[0m\u001b[0;34m(\u001b[0m\u001b[0mexpr\u001b[0m\u001b[0;34m=\u001b[0m\u001b[0mopt_model\u001b[0m\u001b[0;34m.\u001b[0m\u001b[0mgbt\u001b[0m\u001b[0;34m.\u001b[0m\u001b[0moutputs\u001b[0m\u001b[0;34m[\u001b[0m\u001b[0;36m0\u001b[0m\u001b[0;34m]\u001b[0m\u001b[0;34m)\u001b[0m\u001b[0;34m\u001b[0m\u001b[0;34m\u001b[0m\u001b[0m\n\u001b[1;32m      3\u001b[0m \u001b[0msolver\u001b[0m \u001b[0;34m=\u001b[0m \u001b[0mpe\u001b[0m\u001b[0;34m.\u001b[0m\u001b[0mSolverFactory\u001b[0m\u001b[0;34m(\u001b[0m\u001b[0;34m'gurobi_direct'\u001b[0m\u001b[0;34m)\u001b[0m\u001b[0;34m\u001b[0m\u001b[0;34m\u001b[0m\u001b[0m\n\u001b[0;32m----> 4\u001b[0;31m \u001b[0msolver\u001b[0m\u001b[0;34m.\u001b[0m\u001b[0msolve\u001b[0m\u001b[0;34m(\u001b[0m\u001b[0mopt_model\u001b[0m\u001b[0;34m,\u001b[0m \u001b[0mtee\u001b[0m\u001b[0;34m=\u001b[0m\u001b[0;32mTrue\u001b[0m\u001b[0;34m)\u001b[0m\u001b[0;34m\u001b[0m\u001b[0;34m\u001b[0m\u001b[0m\n\u001b[0m",
      "\u001b[0;32m~/miniconda3/lib/python3.7/site-packages/pyomo/solvers/plugins/solvers/direct_solver.py\u001b[0m in \u001b[0;36msolve\u001b[0;34m(self, *args, **kwds)\u001b[0m\n\u001b[1;32m     67\u001b[0m         \u001b[0;34m\"\"\" Solve the problem \"\"\"\u001b[0m\u001b[0;34m\u001b[0m\u001b[0;34m\u001b[0m\u001b[0m\n\u001b[1;32m     68\u001b[0m \u001b[0;34m\u001b[0m\u001b[0m\n\u001b[0;32m---> 69\u001b[0;31m         \u001b[0mself\u001b[0m\u001b[0;34m.\u001b[0m\u001b[0mavailable\u001b[0m\u001b[0;34m(\u001b[0m\u001b[0mexception_flag\u001b[0m\u001b[0;34m=\u001b[0m\u001b[0;32mTrue\u001b[0m\u001b[0;34m)\u001b[0m\u001b[0;34m\u001b[0m\u001b[0;34m\u001b[0m\u001b[0m\n\u001b[0m\u001b[1;32m     70\u001b[0m         \u001b[0;31m#\u001b[0m\u001b[0;34m\u001b[0m\u001b[0;34m\u001b[0m\u001b[0;34m\u001b[0m\u001b[0m\n\u001b[1;32m     71\u001b[0m         \u001b[0;31m# If the inputs are models, then validate that they have been\u001b[0m\u001b[0;34m\u001b[0m\u001b[0;34m\u001b[0m\u001b[0;34m\u001b[0m\u001b[0m\n",
      "\u001b[0;32m~/miniconda3/lib/python3.7/site-packages/pyomo/solvers/plugins/solvers/gurobi_direct.py\u001b[0m in \u001b[0;36mavailable\u001b[0;34m(self, exception_flag)\u001b[0m\n\u001b[1;32m    123\u001b[0m                 raise ApplicationError(\n\u001b[1;32m    124\u001b[0m                     \u001b[0;34m\"No Python bindings available for %s solver plugin\"\u001b[0m\u001b[0;34m\u001b[0m\u001b[0;34m\u001b[0m\u001b[0m\n\u001b[0;32m--> 125\u001b[0;31m                     % (type(self),))\n\u001b[0m\u001b[1;32m    126\u001b[0m             \u001b[0;32mreturn\u001b[0m \u001b[0;32mFalse\u001b[0m\u001b[0;34m\u001b[0m\u001b[0;34m\u001b[0m\u001b[0m\n\u001b[1;32m    127\u001b[0m         \u001b[0;32mif\u001b[0m \u001b[0mself\u001b[0m\u001b[0;34m.\u001b[0m\u001b[0m_verified_license\u001b[0m \u001b[0;32mis\u001b[0m \u001b[0;32mNone\u001b[0m\u001b[0;34m:\u001b[0m\u001b[0;34m\u001b[0m\u001b[0;34m\u001b[0m\u001b[0m\n",
      "\u001b[0;31mApplicationError\u001b[0m: No Python bindings available for <class 'pyomo.solvers.plugins.solvers.gurobi_direct.GurobiDirect'> solver plugin"
     ]
    }
   ],
   "source": [
    "import gurobipy\n",
    "opt_model.obj = pe.Objective(expr=opt_model.gbt.outputs[0])\n",
    "solver = pe.SolverFactory('gurobi_direct')\n",
    "solver.solve(opt_model, tee=True)"
   ]
  },
  {
   "cell_type": "code",
   "execution_count": 12,
   "id": "114c04fe",
   "metadata": {},
   "outputs": [
    {
     "name": "stdout",
     "output_type": "stream",
     "text": [
      "x : Size=10, Index=x_index\n",
      "    Key : Lower : Value : Upper : Fixed : Stale : Domain\n",
      "      0 : -5.12 :  None :  5.12 : False :  True :  Reals\n",
      "      1 : -5.12 :  None :  5.12 : False :  True :  Reals\n",
      "      2 : -5.12 :  None :  5.12 : False :  True :  Reals\n",
      "      3 : -5.12 :  None :  5.12 : False :  True :  Reals\n",
      "      4 : -5.12 :  None :  5.12 : False :  True :  Reals\n",
      "      5 : -5.12 :  None :  5.12 : False :  True :  Reals\n",
      "      6 : -5.12 :  None :  5.12 : False :  True :  Reals\n",
      "      7 : -5.12 :  None :  5.12 : False :  True :  Reals\n",
      "      8 : -5.12 :  None :  5.12 : False :  True :  Reals\n",
      "      9 : -5.12 :  None :  5.12 : False :  True :  Reals\n",
      "None\n"
     ]
    }
   ],
   "source": [
    "print(opt_model.x.pprint())"
   ]
  },
  {
   "cell_type": "code",
   "execution_count": null,
   "id": "748da606",
   "metadata": {},
   "outputs": [],
   "source": []
  }
 ],
 "metadata": {
  "kernelspec": {
   "display_name": "Python 3 (ipykernel)",
   "language": "python",
   "name": "python3"
  },
  "language_info": {
   "codemirror_mode": {
    "name": "ipython",
    "version": 3
   },
   "file_extension": ".py",
   "mimetype": "text/x-python",
   "name": "python",
   "nbconvert_exporter": "python",
   "pygments_lexer": "ipython3",
   "version": "3.7.4"
  }
 },
 "nbformat": 4,
 "nbformat_minor": 5
}
